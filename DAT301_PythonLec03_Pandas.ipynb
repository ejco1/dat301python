{
 "cells": [
  {
   "cell_type": "markdown",
   "id": "logical-canadian",
   "metadata": {},
   "source": [
    "\n",
    "### Getting Started with pandas\n",
    "\n",
    "- The pandas library is our fundamental library for working with tabular data/data frames.\n",
    "\n",
    "- pandas is often used with numerical computing tools NumPy and SciPy, analytical libraries like scikit-learn, and data visualization libraries such as matplotlib\n",
    "\n",
    "- Adopts parts of NumPy's style for array-based computing and data processing without `for` loops\n",
    "\n",
    "- pandas is to Python what both base R data.frame functions and dplyr are to R.\n"
   ]
  },
  {
   "cell_type": "code",
   "execution_count": null,
   "id": "adequate-minority",
   "metadata": {},
   "outputs": [],
   "source": [
    "#Standard way to import\n",
    "####\n",
    "\n",
    "import pandas as pd\n",
    "\n",
    "#Grab numpy as well:\n",
    "import numpy as np"
   ]
  },
  {
   "cell_type": "markdown",
   "id": "particular-tribune",
   "metadata": {},
   "source": [
    "#### Series\n",
    "\n",
    "The two fundamental data structures in pandas are the *Series* and *DataFrame*\n",
    "\n",
    "A **Series** is a 1-D array-like object consisting of a sequence of values (types similar to NumPy types) + an array of data labels called its *index*"
   ]
  },
  {
   "cell_type": "code",
   "execution_count": null,
   "id": "polyphonic-mining",
   "metadata": {
    "scrolled": true
   },
   "outputs": [],
   "source": [
    "#Make simple series from only an array of data\n",
    "obj = pd.Series([1, 3, 5, 7])\n",
    "\n",
    "obj"
   ]
  },
  {
   "cell_type": "markdown",
   "id": "useful-efficiency",
   "metadata": {},
   "source": [
    "Check out default index (plus values):"
   ]
  },
  {
   "cell_type": "code",
   "execution_count": null,
   "id": "stable-begin",
   "metadata": {},
   "outputs": [],
   "source": [
    "obj.values"
   ]
  },
  {
   "cell_type": "code",
   "execution_count": null,
   "id": "italian-conflict",
   "metadata": {},
   "outputs": [],
   "source": [
    "obj.index"
   ]
  },
  {
   "cell_type": "markdown",
   "id": "transsexual-edition",
   "metadata": {},
   "source": [
    "Let's give everything a label using the index:"
   ]
  },
  {
   "cell_type": "code",
   "execution_count": null,
   "id": "accessible-reality",
   "metadata": {},
   "outputs": [],
   "source": [
    "obj2 = pd.Series([1, 3, 5, 7], index = ['a', 'b', 'c', 'd'])\n",
    "#obj2 = pd.Series([1, 3, 5, 7], index = range(1,5))\n",
    "\n",
    "display(obj2)\n",
    "\n",
    "obj2.index"
   ]
  },
  {
   "cell_type": "markdown",
   "id": "freelance-tyler",
   "metadata": {},
   "source": [
    "Can use either numeric index or labels in index to select values:\n",
    "\n",
    "(Note possible ambiguity when labels are numeric)"
   ]
  },
  {
   "cell_type": "code",
   "execution_count": null,
   "id": "raising-suspect",
   "metadata": {
    "scrolled": true
   },
   "outputs": [],
   "source": [
    "obj2[1]"
   ]
  },
  {
   "cell_type": "code",
   "execution_count": null,
   "id": "enormous-genetics",
   "metadata": {},
   "outputs": [],
   "source": [
    "obj2['a']"
   ]
  },
  {
   "cell_type": "code",
   "execution_count": null,
   "id": "residential-literature",
   "metadata": {},
   "outputs": [],
   "source": [
    "obj2['a':'d']"
   ]
  },
  {
   "cell_type": "code",
   "execution_count": null,
   "id": "opponent-gasoline",
   "metadata": {},
   "outputs": [],
   "source": [
    "#Note must use a list if getting multiple specific indices\n",
    "obj2[['a', 'b', 'd']]"
   ]
  },
  {
   "cell_type": "code",
   "execution_count": null,
   "id": "basic-helping",
   "metadata": {},
   "outputs": [],
   "source": [
    "#Note again the right index is included with this format!\n",
    "obj2['a':'c']"
   ]
  },
  {
   "cell_type": "markdown",
   "id": "computational-document",
   "metadata": {},
   "source": [
    "We can also use `iloc` and `loc`:"
   ]
  },
  {
   "cell_type": "code",
   "execution_count": null,
   "id": "false-monster",
   "metadata": {},
   "outputs": [],
   "source": [
    "obj2.iloc[[0,2,3]]"
   ]
  },
  {
   "cell_type": "code",
   "execution_count": null,
   "id": "varied-burns",
   "metadata": {
    "scrolled": true
   },
   "outputs": [],
   "source": [
    "obj2.loc['a':'c']"
   ]
  },
  {
   "cell_type": "code",
   "execution_count": null,
   "id": "lucky-opportunity",
   "metadata": {},
   "outputs": [],
   "source": [
    "obj2.loc[['a', 'c', 'd']]"
   ]
  },
  {
   "cell_type": "code",
   "execution_count": null,
   "id": "orange-difficulty",
   "metadata": {},
   "outputs": [],
   "source": [
    "#But note the difference:\n",
    "obj2.iloc[0:2]"
   ]
  },
  {
   "cell_type": "markdown",
   "id": "furnished-timing",
   "metadata": {},
   "source": [
    "#### Boolean Masking\n",
    "\n",
    "Similar to NumPy, R, etc.\n",
    "\n",
    "Note that masking, filtering, scalar multiplication, and math functions all preserve index-value link"
   ]
  },
  {
   "cell_type": "code",
   "execution_count": null,
   "id": "corresponding-blond",
   "metadata": {},
   "outputs": [],
   "source": [
    "obj2 > 3\n",
    "\n",
    "#obj2[obj2 > 3]"
   ]
  },
  {
   "cell_type": "code",
   "execution_count": null,
   "id": "stuck-socket",
   "metadata": {},
   "outputs": [],
   "source": [
    "#OR:\n",
    "obj2.loc[obj2 > 3]"
   ]
  },
  {
   "cell_type": "code",
   "execution_count": null,
   "id": "official-argentina",
   "metadata": {},
   "outputs": [],
   "source": [
    "obj2 * 3"
   ]
  },
  {
   "cell_type": "code",
   "execution_count": null,
   "id": "controlling-aberdeen",
   "metadata": {},
   "outputs": [],
   "source": [
    "np.exp(obj2)"
   ]
  },
  {
   "cell_type": "markdown",
   "id": "level-lodging",
   "metadata": {},
   "source": [
    "- Series can also be thought of as a fixed-length, ordered dict: It is a mapping of index values to data values.\n",
    "\n",
    "- Series can be used in many contexts where a dict might be used:"
   ]
  },
  {
   "cell_type": "code",
   "execution_count": null,
   "id": "manufactured-cache",
   "metadata": {},
   "outputs": [],
   "source": [
    "#See if index/key in obj2?\n",
    "'a' in obj2"
   ]
  },
  {
   "cell_type": "code",
   "execution_count": null,
   "id": "positive-winner",
   "metadata": {},
   "outputs": [],
   "source": [
    "'f' in obj2"
   ]
  },
  {
   "cell_type": "code",
   "execution_count": null,
   "id": "ethical-morning",
   "metadata": {},
   "outputs": [],
   "source": [
    "#But values?\n",
    "5 in obj2"
   ]
  },
  {
   "cell_type": "code",
   "execution_count": null,
   "id": "graphic-magazine",
   "metadata": {},
   "outputs": [],
   "source": [
    "#Can just do:\n",
    "5 in obj2.values"
   ]
  },
  {
   "cell_type": "code",
   "execution_count": null,
   "id": "analyzed-sigma",
   "metadata": {},
   "outputs": [],
   "source": [
    "#Note boolean masking by a list of values:\n",
    "obj2.isin([5,7])"
   ]
  },
  {
   "cell_type": "code",
   "execution_count": null,
   "id": "scientific-arnold",
   "metadata": {},
   "outputs": [],
   "source": [
    "#And apply: #Can omit \"loc\"\n",
    "obj2.loc[obj2.isin([5,7])]"
   ]
  },
  {
   "cell_type": "markdown",
   "id": "academic-discussion",
   "metadata": {},
   "source": [
    "Can directly create a Series from data stored in a dictionary object:"
   ]
  },
  {
   "cell_type": "code",
   "execution_count": null,
   "id": "arabic-concept",
   "metadata": {
    "scrolled": true
   },
   "outputs": [],
   "source": [
    "#Area harvested for grain in 2020 in 1,000 acres, selected states; USDA Acreage Report\n",
    "#https://usda.library.cornell.edu/concern/publications/j098zb09z?locale=en\n",
    "####\n",
    "sdata = {'Arizona': 29, 'Ohio': 3300, 'Texas': 1810, 'Oregon': 65, 'Iowa': 12900}\n",
    "\n",
    "obj3 = pd.Series(sdata)\n",
    "obj3"
   ]
  },
  {
   "cell_type": "code",
   "execution_count": null,
   "id": "executive-distance",
   "metadata": {},
   "outputs": [],
   "source": [
    "#Note, equiv to:\n",
    "#sdata = [29, 3300, 1810, 65, 12900]\n",
    "#pd.Series(sdata, index = ['Arizona', 'Ohio', 'Texas', 'Oregon', 'Iowa'])"
   ]
  },
  {
   "cell_type": "code",
   "execution_count": null,
   "id": "several-teaching",
   "metadata": {},
   "outputs": [],
   "source": [
    "obj3.values"
   ]
  },
  {
   "cell_type": "code",
   "execution_count": null,
   "id": "exotic-horse",
   "metadata": {},
   "outputs": [],
   "source": [
    "obj3.index"
   ]
  },
  {
   "cell_type": "markdown",
   "id": "detected-turner",
   "metadata": {},
   "source": [
    "Can set order of key in resulting series:"
   ]
  },
  {
   "cell_type": "code",
   "execution_count": null,
   "id": "valued-bubble",
   "metadata": {},
   "outputs": [],
   "source": [
    "states = ['Iowa', 'Arizona', 'Texas', 'Ohio', 'California']\n",
    "\n",
    "obj4 = pd.Series(sdata, index = states)\n",
    "obj4"
   ]
  },
  {
   "cell_type": "markdown",
   "id": "classified-death",
   "metadata": {},
   "source": [
    "Note that 'Utah' was dropped, and California got a `NaN` value\n",
    "\n",
    "Can detect missing data with `isnull` and `notnull`:"
   ]
  },
  {
   "cell_type": "code",
   "execution_count": null,
   "id": "lesser-archive",
   "metadata": {},
   "outputs": [],
   "source": [
    "pd.isnull(obj4)"
   ]
  },
  {
   "cell_type": "code",
   "execution_count": null,
   "id": "cubic-database",
   "metadata": {},
   "outputs": [],
   "source": [
    "pd.notnull(obj4)"
   ]
  },
  {
   "cell_type": "code",
   "execution_count": null,
   "id": "previous-arthur",
   "metadata": {},
   "outputs": [],
   "source": [
    "#Also have isnull() and notnull() methods (vs. functions)\n",
    "#Plus isna() and notna() methods\n",
    "\n",
    "obj4.notna()\n",
    "\n",
    "obj4.isna()"
   ]
  },
  {
   "cell_type": "code",
   "execution_count": null,
   "id": "ambient-acceptance",
   "metadata": {},
   "outputs": [],
   "source": [
    "#Throw in an any() method (can also try all()):\n",
    "obj4.isna().any()"
   ]
  },
  {
   "cell_type": "markdown",
   "id": "broad-wrestling",
   "metadata": {},
   "source": [
    "Arithmetic operations automatically align by index label:"
   ]
  },
  {
   "cell_type": "code",
   "execution_count": null,
   "id": "described-development",
   "metadata": {},
   "outputs": [],
   "source": [
    "print(obj3, '\\n')\n",
    "print(obj4)\n",
    "\n",
    "obj3 + obj4"
   ]
  },
  {
   "cell_type": "code",
   "execution_count": null,
   "id": "latest-revelation",
   "metadata": {},
   "outputs": [],
   "source": []
  },
  {
   "cell_type": "code",
   "execution_count": null,
   "id": "induced-honor",
   "metadata": {},
   "outputs": [],
   "source": [
    "#Only keep the ones that aren't NaN:\n",
    "add_obj = (obj3 + obj4)\n",
    "\n",
    "add_obj = add_obj.loc[add_obj.notnull()]\n",
    "add_obj\n",
    "#add_obj"
   ]
  },
  {
   "cell_type": "code",
   "execution_count": null,
   "id": "fabulous-power",
   "metadata": {},
   "outputs": [],
   "source": [
    "#Alternatively, and simpler:\n",
    "(obj3 + obj4).dropna()"
   ]
  },
  {
   "cell_type": "markdown",
   "id": "complex-needle",
   "metadata": {},
   "source": [
    "Can name the Series object itself, as well as the index:"
   ]
  },
  {
   "cell_type": "code",
   "execution_count": null,
   "id": "infectious-chocolate",
   "metadata": {},
   "outputs": [],
   "source": [
    "obj4.name = 'Grain'\n",
    "\n",
    "obj4.index.name = 'State'"
   ]
  },
  {
   "cell_type": "code",
   "execution_count": null,
   "id": "demonstrated-glossary",
   "metadata": {},
   "outputs": [],
   "source": [
    "obj4"
   ]
  },
  {
   "cell_type": "code",
   "execution_count": null,
   "id": "forty-scroll",
   "metadata": {},
   "outputs": [],
   "source": [
    "#Can alter index by in-place assignment:\n",
    "#Re-make:\n",
    "obj = pd.Series([1, 3, 5, 7])\n",
    "obj"
   ]
  },
  {
   "cell_type": "code",
   "execution_count": null,
   "id": "educational-architecture",
   "metadata": {},
   "outputs": [],
   "source": [
    "obj.index = ['A', 'B', 'C', 'D']\n",
    "obj.index.name = 'Name!'\n",
    "\n",
    "obj"
   ]
  },
  {
   "cell_type": "code",
   "execution_count": null,
   "id": "micro-roommate",
   "metadata": {},
   "outputs": [],
   "source": [
    "#To change a single value:\n",
    "#Get old index as a list:\n",
    "index_list = list(obj.index)\n",
    "\n",
    "#Alt:\n",
    "#old_index = obj.index.tolist()\n",
    "\n",
    "#Change and update:\n",
    "index_list[0] = 'AAAAAAAAA'\n",
    "obj.index = index_list\n",
    "\n",
    "obj"
   ]
  },
  {
   "cell_type": "code",
   "execution_count": null,
   "id": "architectural-transport",
   "metadata": {},
   "outputs": [],
   "source": [
    "#Note that the above dropped the index name!\n",
    "#Can do this instead:\n",
    "\n",
    "index_array = obj.index.values\n",
    "\n",
    "index_array\n",
    "\n",
    "#print(index_list)\n",
    "\n",
    "index_array[0] = 'AAAAAAAAA'\n",
    "\n",
    "#Need the .copy() or changes in index_array would be reflected in obj.index\n",
    "obj.index._data = index_array.copy()\n",
    "\n",
    "#index_array[1] = 'asdfsdf'\n",
    "\n",
    "obj"
   ]
  },
  {
   "cell_type": "markdown",
   "id": "standing-recipe",
   "metadata": {},
   "source": [
    "### DataFrame\n",
    "\n",
    "Similar to R, rectangular table of data, where each column can be a different data type.\n",
    "\n",
    "- Both row and column index\n",
    "\n",
    "- Can also think of as a dict of Series all sharing same index"
   ]
  },
  {
   "cell_type": "code",
   "execution_count": null,
   "id": "appropriate-yield",
   "metadata": {},
   "outputs": [],
   "source": [
    "#Let's make a DataFrame from a dict of equal-length lists:\n",
    "#Index is assigned automatically\n",
    "\n",
    "#Principal Crops Area Planted\n",
    "#USDA Acreage Report\n",
    "#https://usda.library.cornell.edu/concern/publications/j098zb09z?locale=en\n",
    "\n",
    "data = {'state': ['Arizona', 'Arizona', 'Arizona', 'California', 'California', 'California', 'Iowa', 'Iowa', 'Iowa'],\n",
    "        'year': [2019, 2020, 2021, 2019, 2020, 2021, 2019, 2020, 2021],\n",
    "        'area planted': [637, 573, 616, 2983, 2621, 2550, 23935, 24330, 24330]}\n",
    "        \n",
    "df = pd.DataFrame(data)\n",
    "df"
   ]
  },
  {
   "cell_type": "code",
   "execution_count": null,
   "id": "alpine-formula",
   "metadata": {},
   "outputs": [],
   "source": [
    "#We have head() and tail() methods:\n",
    "###\n",
    "\n",
    "df.head(10)"
   ]
  },
  {
   "cell_type": "code",
   "execution_count": null,
   "id": "muslim-knitting",
   "metadata": {},
   "outputs": [],
   "source": [
    "df.tail(2)"
   ]
  },
  {
   "cell_type": "code",
   "execution_count": null,
   "id": "native-pasta",
   "metadata": {},
   "outputs": [],
   "source": [
    "#Note print vs. display:\n",
    "\n",
    "#print(df)\n",
    "display(df)"
   ]
  },
  {
   "cell_type": "markdown",
   "id": "bearing-religious",
   "metadata": {},
   "source": [
    "Note:"
   ]
  },
  {
   "cell_type": "code",
   "execution_count": null,
   "id": "alternate-giving",
   "metadata": {},
   "outputs": [],
   "source": [
    "type(df)"
   ]
  },
  {
   "cell_type": "code",
   "execution_count": null,
   "id": "duplicate-pleasure",
   "metadata": {},
   "outputs": [],
   "source": [
    "len(df)"
   ]
  },
  {
   "cell_type": "code",
   "execution_count": null,
   "id": "blessed-peripheral",
   "metadata": {},
   "outputs": [],
   "source": [
    "df.size"
   ]
  },
  {
   "cell_type": "code",
   "execution_count": null,
   "id": "oriental-rehabilitation",
   "metadata": {},
   "outputs": [],
   "source": [
    "df.shape"
   ]
  },
  {
   "cell_type": "code",
   "execution_count": null,
   "id": "dedicated-actress",
   "metadata": {},
   "outputs": [],
   "source": [
    "df.ndim"
   ]
  },
  {
   "cell_type": "markdown",
   "id": "fourth-gregory",
   "metadata": {},
   "source": [
    "Can specify order of columns (and which to include):"
   ]
  },
  {
   "cell_type": "code",
   "execution_count": null,
   "id": "sensitive-sherman",
   "metadata": {
    "scrolled": true
   },
   "outputs": [],
   "source": [
    "#Also get NaNs if we pass a column not contained in the dict:\n",
    "pd.DataFrame(data, columns = ['area planted', 'year', 'area harvested'])"
   ]
  },
  {
   "cell_type": "markdown",
   "id": "needed-vaccine",
   "metadata": {},
   "source": [
    "Can add our own index:"
   ]
  },
  {
   "cell_type": "code",
   "execution_count": null,
   "id": "wrong-participant",
   "metadata": {
    "scrolled": true
   },
   "outputs": [],
   "source": [
    "df = pd.DataFrame(data, columns = ['state', 'year', 'area planted'],\n",
    "            index = ['one', 'two', 'three', 'four', 'five', 'six', 'seven', 'eight', 'nine'])\n",
    "\n",
    "df"
   ]
  },
  {
   "cell_type": "markdown",
   "id": "fleet-injury",
   "metadata": {},
   "source": [
    "Getting rows/columns:"
   ]
  },
  {
   "cell_type": "code",
   "execution_count": null,
   "id": "headed-circular",
   "metadata": {},
   "outputs": [],
   "source": [
    "#Get columns:\n",
    "df['area planted']\n",
    "#df.state\n",
    "\n",
    "#df[['state', 'year']]"
   ]
  },
  {
   "cell_type": "code",
   "execution_count": null,
   "id": "actual-wheat",
   "metadata": {},
   "outputs": [],
   "source": [
    "#Note:\n",
    "type(df['state'])\n",
    "#type(pd.DataFrame(df['state']))"
   ]
  },
  {
   "cell_type": "code",
   "execution_count": null,
   "id": "amino-china",
   "metadata": {},
   "outputs": [],
   "source": [
    "#And rows:\n",
    "print(df.loc['seven'])\n",
    "\n",
    "df.iloc[6]"
   ]
  },
  {
   "cell_type": "code",
   "execution_count": null,
   "id": "magnetic-breeding",
   "metadata": {},
   "outputs": [],
   "source": [
    "#Can subset like so:\n",
    "#df.loc['one':'four', ['state', 'year']]\n",
    "\n",
    "#df.loc[['one', 'four'], ['state', 'year']]\n",
    "\n",
    "#df.iloc[[0,3], [0,2]]"
   ]
  },
  {
   "cell_type": "code",
   "execution_count": null,
   "id": "filled-lawsuit",
   "metadata": {},
   "outputs": [],
   "source": [
    "#Let's revert to numeric index:\n",
    "df = pd.DataFrame(data)\n",
    "\n",
    "#Now can subset like this:\n",
    "df.loc[1:4, ['state', 'year']]\n",
    "\n",
    "#df.loc[:,'state':'year']\n",
    "\n",
    "#df.loc[[1,2,7], ['state', 'year']]"
   ]
  },
  {
   "cell_type": "markdown",
   "id": "committed-president",
   "metadata": {},
   "source": [
    "Assigning new values to columns:"
   ]
  },
  {
   "cell_type": "code",
   "execution_count": null,
   "id": "external-requirement",
   "metadata": {},
   "outputs": [],
   "source": [
    "# Set all to the same\n",
    "#Note this creates a new column:\n",
    "df['debt'] = 16.5  \n",
    "df"
   ]
  },
  {
   "cell_type": "code",
   "execution_count": null,
   "id": "entire-gentleman",
   "metadata": {
    "scrolled": true
   },
   "outputs": [],
   "source": [
    "#Could do:\n",
    "#Note, can't start with the df.debt format: debt must already exist\n",
    "df.debt = np.arange(9)"
   ]
  },
  {
   "cell_type": "code",
   "execution_count": null,
   "id": "greatest-incidence",
   "metadata": {},
   "outputs": [],
   "source": [
    "df"
   ]
  },
  {
   "cell_type": "code",
   "execution_count": null,
   "id": "local-voluntary",
   "metadata": {
    "scrolled": true
   },
   "outputs": [],
   "source": [
    "#Can also assign a Series to column: labels will be realigned to DataFrame's index\n",
    "#NaN inserted for any missing labels\n",
    "\n",
    "#Reset df:\n",
    "df = pd.DataFrame(data, columns = ['state', 'year', 'area planted'],\n",
    "            index = ['one', 'two', 'three', 'four', 'five', 'six', 'seven', 'eight', 'nine'])\n",
    "df['debt'] = 0  \n",
    "\n",
    "\n",
    "val = pd.Series([-1, -5, -9], index = ['two', 'four', 'seven'])\n",
    "\n",
    "df.debt = val\n",
    "df"
   ]
  },
  {
   "cell_type": "code",
   "execution_count": null,
   "id": "alien-profession",
   "metadata": {},
   "outputs": [],
   "source": [
    "#Add another column using boolean logic:\n",
    "df['western'] = (df.state == 'Arizona') | (df.state == 'California')\n",
    "df"
   ]
  },
  {
   "cell_type": "code",
   "execution_count": null,
   "id": "convenient-elder",
   "metadata": {
    "scrolled": false
   },
   "outputs": [],
   "source": [
    "#And can delete using del:\n",
    "del df['western']\n",
    "\n",
    "df"
   ]
  },
  {
   "cell_type": "code",
   "execution_count": null,
   "id": "higher-verification",
   "metadata": {},
   "outputs": [],
   "source": [
    "#Or:\n",
    "df = df.drop(columns = ['western'])\n",
    "df"
   ]
  },
  {
   "cell_type": "markdown",
   "id": "angry-force",
   "metadata": {},
   "source": [
    "Sorting:"
   ]
  },
  {
   "cell_type": "code",
   "execution_count": null,
   "id": "irish-telescope",
   "metadata": {},
   "outputs": [],
   "source": [
    "#Can do simple sorting on DataFrames:\n",
    "df = df.sort_values(by = 'area planted')\n",
    "\n",
    "#Or: #Undo what we just did:\n",
    "#df.sort_values(by = ['state', 'area planted'], inplace=True)\n",
    "\n",
    "df"
   ]
  },
  {
   "cell_type": "code",
   "execution_count": null,
   "id": "invisible-bradley",
   "metadata": {},
   "outputs": [],
   "source": [
    "#To sort in descending order:\n",
    "df.sort_values(by = 'area planted', ascending=False)"
   ]
  },
  {
   "cell_type": "markdown",
   "id": "minute-strap",
   "metadata": {},
   "source": [
    "Yet another way to make a DataFrame: Nested Dictionary"
   ]
  },
  {
   "cell_type": "code",
   "execution_count": null,
   "id": "designed-bosnia",
   "metadata": {},
   "outputs": [],
   "source": [
    "#Keys in outer dictionary are interpreted as columns\n",
    "#Keys in inner dictionary are row indices:\n",
    "\n",
    "pop = {'Arizona': {2017: 1, 2018: 2, 2019: 3},\n",
    "       'Ohio': {2018: 11, 2019: 12}}\n",
    "\n",
    "pd.DataFrame(pop)"
   ]
  },
  {
   "cell_type": "code",
   "execution_count": null,
   "id": "biological-shaft",
   "metadata": {},
   "outputs": [],
   "source": [
    "#Can specify which indices we want:\n",
    "pd.DataFrame(pop, index=[2018, 2019])"
   ]
  },
  {
   "cell_type": "code",
   "execution_count": null,
   "id": "western-event",
   "metadata": {},
   "outputs": [],
   "source": [
    "#Could also Transpose the DataFrame:\n",
    "df2 = pd.DataFrame(pop)\n",
    "\n",
    "df2.T"
   ]
  },
  {
   "cell_type": "code",
   "execution_count": null,
   "id": "alert-terminology",
   "metadata": {},
   "outputs": [],
   "source": [
    "#Note we can use a dictionary of series:\n",
    "\n",
    "pdata = {'Arizona': df2['Arizona'][:-1],\n",
    "         'Ohio': df2['Ohio'][:-1]}\n",
    "\n",
    "pd.DataFrame(pdata)"
   ]
  },
  {
   "cell_type": "markdown",
   "id": "incident-brick",
   "metadata": {},
   "source": [
    "One last way to make a simple DataFrame:"
   ]
  },
  {
   "cell_type": "code",
   "execution_count": null,
   "id": "insured-variation",
   "metadata": {},
   "outputs": [],
   "source": [
    "#Make by row:\n",
    "df = pd.DataFrame([[1, 2], [3, 4]], columns=list('AB'), index=['x', 'y'])\n",
    "display(df)\n"
   ]
  },
  {
   "cell_type": "code",
   "execution_count": null,
   "id": "sublime-toilet",
   "metadata": {},
   "outputs": [],
   "source": [
    "#Make by column (with some intermediate steps):\n",
    "df = pd.DataFrame([[1, 2, 3], [3, 4, 5]])\n",
    "display(df)\n",
    "\n",
    "df = df.transpose()\n",
    "display(df)\n",
    "\n",
    "df.columns = ['A', 'B']\n",
    "df.index = ['x', 'y', 'z']\n",
    "\n",
    "display(df)"
   ]
  },
  {
   "cell_type": "code",
   "execution_count": null,
   "id": "answering-penguin",
   "metadata": {},
   "outputs": [],
   "source": [
    "#Aside:\n",
    "#Change a single column name:\n",
    "df.columns._data[1] = 'Woo!'\n",
    "\n",
    "df"
   ]
  },
  {
   "cell_type": "code",
   "execution_count": null,
   "id": "appointed-raising",
   "metadata": {},
   "outputs": [],
   "source": [
    "#Above is similar to:\n",
    "#########\n",
    "\n",
    "x = np.array([[1, 2, 3], [3, 4, 5]])\n",
    "x = x.T\n",
    "x"
   ]
  },
  {
   "cell_type": "code",
   "execution_count": null,
   "id": "lyric-mercy",
   "metadata": {},
   "outputs": [],
   "source": [
    "#To summarize\n",
    "#############\n",
    "\n",
    "#Make by row:\n",
    "df = pd.DataFrame([[1, 2], [3, 4]], columns=list('AB'), index=['x', 'y'])\n",
    "display(df)\n",
    "\n",
    "\n",
    "#Make by column:\n",
    "df = pd.DataFrame([[1, 2, 3], [3, 4, 5]])\n",
    "df = df.transpose()\n",
    "df.columns = ['A', 'B']\n",
    "df.index = ['x', 'y', 'z']\n",
    "\n",
    "display(df)\n",
    "\n",
    "\n",
    "#Make by column: Yet another way:\n",
    "x = np.array([[1, 2, 3], [3, 4, 5]])\n",
    "x = x.T\n",
    "x\n",
    "df = pd.DataFrame(list(x), columns=list('AB'), index=['x', 'y', 'z'])\n",
    "\n",
    "df"
   ]
  },
  {
   "cell_type": "markdown",
   "id": "outside-cleaning",
   "metadata": {},
   "source": [
    "#### Adding and dropping rows"
   ]
  },
  {
   "cell_type": "code",
   "execution_count": null,
   "id": "beginning-diamond",
   "metadata": {
    "scrolled": true
   },
   "outputs": [],
   "source": [
    "#Let's add a row:\n",
    "\n",
    "df = pd.DataFrame([[1, 2], [3, 4]], columns=list('AB')) #, index=['x', 'y'])\n",
    "\n",
    "#df\n",
    "#To append a dict, need ignore_index = True\n",
    "df.append({'A':9, 'B':10}, ignore_index=True)"
   ]
  },
  {
   "cell_type": "code",
   "execution_count": null,
   "id": "threatened-discrimination",
   "metadata": {},
   "outputs": [],
   "source": [
    "#Could add a second dataframe:\n",
    "df2 = pd.DataFrame({'A':[9], 'B':[10]}) #, index=['x'])\n",
    "df2\n",
    "\n",
    "#Note indices\n",
    "#Index values do not have to be unique in pandas\n",
    "df = df.append(df2)\n",
    "\n",
    "df"
   ]
  },
  {
   "cell_type": "code",
   "execution_count": null,
   "id": "enormous-batch",
   "metadata": {},
   "outputs": [],
   "source": [
    "#To drop a row:\n",
    "#Note both rows with index 0 dropped\n",
    "df.drop([0])"
   ]
  },
  {
   "cell_type": "code",
   "execution_count": null,
   "id": "conceptual-publication",
   "metadata": {},
   "outputs": [],
   "source": [
    "#Can also do as named argument, list:\n",
    "df = pd.DataFrame({'A':[1,2,3], 'B':[2,3,4], 'C':[5,3,4]})\n",
    "\n",
    "df = df.drop(labels = [0, 1])\n",
    "\n",
    "#Or:\n",
    "#df = df.drop(index = [0, 1])\n",
    "\n",
    "df"
   ]
  },
  {
   "cell_type": "code",
   "execution_count": null,
   "id": "sweet-locator",
   "metadata": {
    "scrolled": true
   },
   "outputs": [],
   "source": [
    "#Also:\n",
    "#To drop columns:\n",
    "####\n",
    "\n",
    "df = pd.DataFrame({'A':[9], 'B':[10], 'C':[11]})\n",
    "\n",
    "df.drop(columns = ['A', 'B'])"
   ]
  },
  {
   "cell_type": "markdown",
   "id": "pressed-wilson",
   "metadata": {},
   "source": [
    "#### More on Indexing, Selecting, Filtering"
   ]
  },
  {
   "cell_type": "code",
   "execution_count": null,
   "id": "vocal-horse",
   "metadata": {},
   "outputs": [],
   "source": [
    "#Consider simple DataFrame:\n",
    "df = pd.DataFrame(np.arange(16).reshape(4, 4),\n",
    "                  index = ['one', 'two', 'three', 'four'],\n",
    "                  columns = ['C1', 'C2', 'C3', 'C4'])\n",
    "\n",
    "df.head()"
   ]
  },
  {
   "cell_type": "code",
   "execution_count": null,
   "id": "competent-candle",
   "metadata": {},
   "outputs": [],
   "source": [
    "#To get a single or multiple columns:\n",
    "df['C1']\n",
    "\n",
    "#df[['C1', 'C3']]\n",
    "\n",
    "#Or\n",
    "#df.loc[:, 'C1']\n",
    "#df.loc[:, ['C1', 'C3']]"
   ]
  },
  {
   "cell_type": "code",
   "execution_count": null,
   "id": "olive-metallic",
   "metadata": {},
   "outputs": [],
   "source": [
    "#Try:\n",
    "###\n",
    "\n",
    "df.loc[:'three']\n",
    "\n",
    "#df.loc[:'three', ['C1']]"
   ]
  },
  {
   "cell_type": "code",
   "execution_count": null,
   "id": "municipal-clerk",
   "metadata": {},
   "outputs": [],
   "source": [
    "#Can apply boolean masking:\n",
    "df > 2\n",
    "\n",
    "#df[df > 2] = 99\n",
    "\n",
    "#df"
   ]
  },
  {
   "cell_type": "code",
   "execution_count": null,
   "id": "agricultural-creativity",
   "metadata": {},
   "outputs": [],
   "source": [
    "#Another way:\n",
    "####\n",
    "\n",
    "df['C2'] > 2\n",
    "\n",
    "#df[df['C2'] > 2]\n",
    "\n",
    "#Or:\n",
    "#df.loc[df['C2'] > 2]\n",
    "\n",
    "#df.loc[df['C2'] > 2] = 0"
   ]
  },
  {
   "cell_type": "code",
   "execution_count": null,
   "id": "impaired-numbers",
   "metadata": {},
   "outputs": [],
   "source": [
    "#Another tricksy way:\n",
    "###\n",
    "df.isin([4,8])\n",
    "\n",
    "df[df.isin([4,8])] = 99\n",
    "\n",
    "df"
   ]
  },
  {
   "cell_type": "code",
   "execution_count": null,
   "id": "rural-coast",
   "metadata": {},
   "outputs": [],
   "source": [
    "#Also:\n",
    "df.loc[df['C1'].isin([4,8])]"
   ]
  },
  {
   "cell_type": "markdown",
   "id": "robust-recognition",
   "metadata": {},
   "source": [
    "**Selection with loc and iloc**\n",
    "\n",
    "Select subsets of rows and columns using either axis labels (`loc`) or integer index (`iloc`)\n",
    "- `loc`: Strictly label-based access\n",
    "- `iloc`: Strictly integer-based access"
   ]
  },
  {
   "cell_type": "code",
   "execution_count": null,
   "id": "flying-evaluation",
   "metadata": {},
   "outputs": [],
   "source": [
    "#Basic loc:\n",
    "\n",
    "#df.loc['one']\n",
    "\n",
    "#df.loc['one', ['C1','C2']]"
   ]
  },
  {
   "cell_type": "code",
   "execution_count": null,
   "id": "worldwide-worse",
   "metadata": {},
   "outputs": [],
   "source": [
    "#iloc examples:\n",
    "###\n",
    "\n",
    "#df.iloc[2]\n",
    "#df.iloc[2,:]\n",
    "\n",
    "#df.iloc[[0,2,3]]\n",
    "\n",
    "#df.iloc[1:3, 2:4]"
   ]
  },
  {
   "cell_type": "code",
   "execution_count": null,
   "id": "bronze-cream",
   "metadata": {},
   "outputs": [],
   "source": [
    "#Note once more the asymmetry between iloc and loc for the end index:\n",
    "###\n",
    "\n",
    "df.loc['one':'three', 'C2':'C4']\n",
    "\n",
    "#df.iloc[1:3, 2:4]"
   ]
  },
  {
   "cell_type": "markdown",
   "id": "random-thunder",
   "metadata": {},
   "source": [
    "**Adding DataFrames**\n",
    "\n",
    "Recall with Series, addition acts something like an outer join on the index labels.\n",
    "\n",
    "This is similarly true for DataFrames:"
   ]
  },
  {
   "cell_type": "code",
   "execution_count": null,
   "id": "constitutional-consensus",
   "metadata": {
    "scrolled": false
   },
   "outputs": [],
   "source": [
    "#Example:\n",
    "df1 = pd.DataFrame(np.arange(9).reshape(3,3), columns = list('bcd'),\n",
    "                                              index = list('ABC'))\n",
    "\n",
    "df2 = pd.DataFrame(np.arange(9).reshape(3,3), columns = list('bde'),\n",
    "                                              index = list('DAB'))\n",
    "\n",
    "display(df1)\n",
    "display(df2)\n",
    "\n",
    "#Only where index and column match do we get something not NaN\n",
    "#Everything else is NaN, but we take union of all indices and columns\n",
    "df1 + df2"
   ]
  },
  {
   "cell_type": "code",
   "execution_count": null,
   "id": "initial-throat",
   "metadata": {},
   "outputs": [],
   "source": [
    "#We can change fill value with add method:\n",
    "#Fill value is value used when an axis label is found in one object but not the other:\n",
    "\n",
    "df1.add(df2, fill_value = 0)"
   ]
  },
  {
   "cell_type": "markdown",
   "id": "final-reaction",
   "metadata": {},
   "source": [
    "Some other arithmetic methods...\n",
    "\n",
    "Note that prefix r flips arguments:"
   ]
  },
  {
   "cell_type": "code",
   "execution_count": null,
   "id": "induced-growth",
   "metadata": {},
   "outputs": [],
   "source": [
    "df1"
   ]
  },
  {
   "cell_type": "code",
   "execution_count": null,
   "id": "determined-swimming",
   "metadata": {
    "scrolled": true
   },
   "outputs": [],
   "source": [
    "display(df1.div(4))\n",
    "#display(df1.rdiv(4))"
   ]
  },
  {
   "cell_type": "markdown",
   "id": "timely-upper",
   "metadata": {},
   "source": [
    "Methods:\n",
    "\n",
    "- `add`, `radd`\n",
    "- `sub`, `rsub`\n",
    "- `div`, `rdiv`\n",
    "- `floordiv`, `rfloordiv`\n",
    "- `mul`, `rmul`\n",
    "- `pow`, `rpow`"
   ]
  },
  {
   "cell_type": "markdown",
   "id": "august-twist",
   "metadata": {},
   "source": [
    "#### Operations between DataFrames and Series\n",
    "\n",
    "Note NumPy operations between arrays of different dimensions as an example:"
   ]
  },
  {
   "cell_type": "code",
   "execution_count": null,
   "id": "progressive-scotland",
   "metadata": {},
   "outputs": [],
   "source": [
    "arr = np.arange(12).reshape(3,4)\n",
    "arr"
   ]
  },
  {
   "cell_type": "code",
   "execution_count": null,
   "id": "medieval-texas",
   "metadata": {},
   "outputs": [],
   "source": [
    "a = arr[1]\n",
    "a"
   ]
  },
  {
   "cell_type": "code",
   "execution_count": null,
   "id": "thrown-california",
   "metadata": {},
   "outputs": [],
   "source": [
    "#Subtraction is performed once for each row: Notion of \"Broadcasting\"\n",
    "arr - a"
   ]
  },
  {
   "cell_type": "markdown",
   "id": "transsexual-receptor",
   "metadata": {},
   "source": [
    "Operations between DataFrame and Series similar:"
   ]
  },
  {
   "cell_type": "code",
   "execution_count": null,
   "id": "equal-found",
   "metadata": {
    "scrolled": true
   },
   "outputs": [],
   "source": [
    "df = pd.DataFrame(np.arange(12).reshape(3,4),\n",
    "                  columns = list('ABCD'),\n",
    "                  index = list('abc'))\n",
    "\n",
    "df"
   ]
  },
  {
   "cell_type": "code",
   "execution_count": null,
   "id": "alpine-dryer",
   "metadata": {},
   "outputs": [],
   "source": [
    "series = df.iloc[1]\n",
    "\n",
    "display(series)\n",
    "\n",
    "df - series"
   ]
  },
  {
   "cell_type": "code",
   "execution_count": null,
   "id": "right-citation",
   "metadata": {
    "scrolled": true
   },
   "outputs": [],
   "source": [
    "#What if an index missing?\n",
    "series = pd.Series([1, 2, 3, 4], index = list('ABCE'))\n",
    "\n",
    "series"
   ]
  },
  {
   "cell_type": "code",
   "execution_count": null,
   "id": "above-cotton",
   "metadata": {},
   "outputs": [],
   "source": [
    "df - series"
   ]
  },
  {
   "cell_type": "code",
   "execution_count": null,
   "id": "handled-vacuum",
   "metadata": {},
   "outputs": [],
   "source": [
    "#To broadcast over columns instead of rows:\n",
    "series = df['A']\n",
    "\n",
    "display(series)\n",
    "\n",
    "#This won't work:\n",
    "#df - series\n",
    "\n",
    "#Instead:\n",
    "df.sub(series, axis = 'index') #Other axis option is 'columns'"
   ]
  },
  {
   "cell_type": "markdown",
   "id": "electric-firmware",
   "metadata": {},
   "source": [
    "#### Function Application and Mapping\n",
    "\n",
    "NumPy ufuncs also work on pandas objects:"
   ]
  },
  {
   "cell_type": "code",
   "execution_count": null,
   "id": "outside-means",
   "metadata": {},
   "outputs": [],
   "source": [
    "df = pd.DataFrame(np.random.randn(4,3).round(2),\n",
    "                  columns = list('ABC'),\n",
    "                  index = list('abcd'))\n",
    "\n",
    "df\n",
    "\n",
    "display(np.abs(df))\n",
    "\n",
    "display(np.ceil(df))"
   ]
  },
  {
   "cell_type": "markdown",
   "id": "convenient-mongolia",
   "metadata": {},
   "source": [
    "`apply` method: Applies a function across columns or rows, similar to apply in R:"
   ]
  },
  {
   "cell_type": "code",
   "execution_count": null,
   "id": "sonic-crash",
   "metadata": {},
   "outputs": [],
   "source": [
    "df = pd.DataFrame(np.arange(12).reshape(4,3),\n",
    "                  columns = list('ABC'),\n",
    "                  index = list('abcd'))\n",
    "\n",
    "display(df)\n",
    "\n",
    "#By default, applies down the columns:\n",
    "df.apply(np.mean)"
   ]
  },
  {
   "cell_type": "code",
   "execution_count": null,
   "id": "headed-begin",
   "metadata": {},
   "outputs": [],
   "source": [
    "#Can also apply across the columns, i.e. along the row:\n",
    "df.apply(np.mean, axis='columns')"
   ]
  },
  {
   "cell_type": "code",
   "execution_count": null,
   "id": "environmental-chosen",
   "metadata": {},
   "outputs": [],
   "source": [
    "#Can use our own functions. Recall lambda keyword:\n",
    "f = lambda x: x.max() - x.min()\n",
    "\n",
    "df.apply(f, axis=0)"
   ]
  },
  {
   "cell_type": "code",
   "execution_count": null,
   "id": "white-motel",
   "metadata": {},
   "outputs": [],
   "source": [
    "#Also similar to R, can return more than a single scalar:\n",
    "#Can also return a Series with multiple values:\n",
    "f = lambda x: pd.Series([x.min(), x.max()], index=['min', 'max'])\n",
    "\n",
    "df.apply(f)"
   ]
  },
  {
   "cell_type": "code",
   "execution_count": null,
   "id": "precise-district",
   "metadata": {},
   "outputs": [],
   "source": [
    "#Note: apply not usually necessary for common array statistical functions:\n",
    "######\n",
    "\n",
    "display(np.mean(df, axis='index'))\n",
    "\n",
    "np.mean(df, axis='columns')"
   ]
  },
  {
   "cell_type": "markdown",
   "id": "subject-dialogue",
   "metadata": {},
   "source": [
    "To use an element-wise Python function with a DataFrame, use `applymap` method:"
   ]
  },
  {
   "cell_type": "code",
   "execution_count": null,
   "id": "tired-diamond",
   "metadata": {},
   "outputs": [],
   "source": [
    "#Converts the input to a string, add 'S'\n",
    "f = lambda x: str(x) + 'S'\n",
    "\n",
    "df.applymap(f)"
   ]
  },
  {
   "cell_type": "markdown",
   "id": "coordinate-sucking",
   "metadata": {},
   "source": [
    "#### More Sorting and Ranking\n",
    "\n",
    "We can sort by row or column index, using the `sort_index` method:"
   ]
  },
  {
   "cell_type": "code",
   "execution_count": null,
   "id": "operational-cameroon",
   "metadata": {},
   "outputs": [],
   "source": [
    "df = pd.DataFrame([[4,1,2], [1,9,0], [0,5,2], [9,5,1]],\n",
    "                  columns = list('BAC'),\n",
    "                  index = list('bcad'))\n",
    "\n",
    "df"
   ]
  },
  {
   "cell_type": "code",
   "execution_count": null,
   "id": "charged-bumper",
   "metadata": {},
   "outputs": [],
   "source": [
    "df.sort_index()"
   ]
  },
  {
   "cell_type": "code",
   "execution_count": null,
   "id": "painted-marine",
   "metadata": {},
   "outputs": [],
   "source": [
    "df.sort_index(axis=1)"
   ]
  },
  {
   "cell_type": "code",
   "execution_count": null,
   "id": "olive-return",
   "metadata": {},
   "outputs": [],
   "source": [
    "df.sort_index(axis=1, ascending=False)"
   ]
  },
  {
   "cell_type": "code",
   "execution_count": null,
   "id": "crazy-array",
   "metadata": {},
   "outputs": [],
   "source": [
    "#And again, to sort by values:\n",
    "df.sort_values(by = ['A'])\n",
    "\n",
    "#df.sort_values(by = ['A','C'])"
   ]
  },
  {
   "cell_type": "code",
   "execution_count": null,
   "id": "metallic-reggae",
   "metadata": {},
   "outputs": [],
   "source": [
    "df"
   ]
  },
  {
   "cell_type": "code",
   "execution_count": null,
   "id": "sitting-growth",
   "metadata": {},
   "outputs": [],
   "source": [
    "#Can also rank items in a DataFrame\n",
    "####\n",
    "\n",
    "df.rank()\n",
    "df.rank(method=\"first\")\n",
    "\n",
    "#df.rank(axis=\"columns\", method=\"first\")\n",
    "\n",
    "#method options: average, min, max, first, dense"
   ]
  },
  {
   "cell_type": "markdown",
   "id": "dedicated-marsh",
   "metadata": {},
   "source": [
    "#### Summarizing and Computing Descriptive Statistics\n",
    "\n",
    "- pandas objects have set of common mathematical and statistical methods\n",
    "- Usualy reductions or summary statistics: yield single value for Series, Series of values from rows or columns of a DataFrame\n",
    "- Built-in handling for missing data"
   ]
  },
  {
   "cell_type": "code",
   "execution_count": null,
   "id": "christian-jacket",
   "metadata": {},
   "outputs": [],
   "source": [
    "#Simple example:\n",
    "df = pd.DataFrame([[1, np.nan], [2, 3], [4, np.nan], [5,6]],\n",
    "                  index = list('abcd'),\n",
    "                  columns = ['one', 'two'])\n",
    "df"
   ]
  },
  {
   "cell_type": "code",
   "execution_count": null,
   "id": "guilty-garage",
   "metadata": {},
   "outputs": [],
   "source": [
    "#Sum down the columns, ignoring NaNs:\n",
    "df.sum()"
   ]
  },
  {
   "cell_type": "code",
   "execution_count": null,
   "id": "honest-divorce",
   "metadata": {},
   "outputs": [],
   "source": [
    "#Sum across the columns, i.e. by index:\n",
    "df.sum(axis='columns') #Or axis = 1"
   ]
  },
  {
   "cell_type": "code",
   "execution_count": null,
   "id": "welsh-theory",
   "metadata": {},
   "outputs": [],
   "source": [
    "#Can do skipna = False:\n",
    "df.sum(axis=1, skipna=False)"
   ]
  },
  {
   "cell_type": "code",
   "execution_count": null,
   "id": "entitled-placement",
   "metadata": {},
   "outputs": [],
   "source": [
    "df"
   ]
  },
  {
   "cell_type": "code",
   "execution_count": null,
   "id": "tight-marine",
   "metadata": {},
   "outputs": [],
   "source": [
    "#idxmin and idxmax return index labels where min and max values attained:\n",
    "#argmin and argmax retun index locations (integers) where min and max attained\n",
    "\n",
    "display(df.max())\n",
    "\n",
    "df.idxmax()"
   ]
  },
  {
   "cell_type": "code",
   "execution_count": null,
   "id": "optical-thought",
   "metadata": {},
   "outputs": [],
   "source": [
    "#Can do cumulative sums and products:\n",
    "df.cumsum()\n",
    "#df.cumprod()"
   ]
  },
  {
   "cell_type": "code",
   "execution_count": null,
   "id": "handed-arrest",
   "metadata": {
    "scrolled": true
   },
   "outputs": [],
   "source": [
    "#And a bunch of summary statistics:\n",
    "df.describe()"
   ]
  },
  {
   "cell_type": "markdown",
   "id": "modified-monster",
   "metadata": {},
   "source": [
    "Methods:\n",
    "- `count`\n",
    "- `describe`\n",
    "- `min`, `max`\n",
    "- `argmin`, `argmax`\n",
    "- `idxmin`, `indxmax`\n",
    "- `quantile`\n",
    "- `sum`\n",
    "- `mean`\n",
    "- `median`\n",
    "- `mad` (mean absolute deviation from mean)\n",
    "- `prod`\n",
    "- `var`\n",
    "- `std`\n",
    "- `skew`\n",
    "- `kurt`\n",
    "- `cumsum`\n",
    "- `cummin`, `cummax`\n",
    "- `cumprod`\n",
    "- `diff` (first arithmetic difference)\n",
    "- `pct_change`"
   ]
  },
  {
   "cell_type": "markdown",
   "id": "damaged-gentleman",
   "metadata": {},
   "source": [
    "#### Final Note: Variable name binding"
   ]
  },
  {
   "cell_type": "code",
   "execution_count": null,
   "id": "following-passage",
   "metadata": {},
   "outputs": [],
   "source": [
    "#Remake our old df:\n",
    "####\n",
    "\n",
    "data = {'state': ['Arizona', 'Arizona', 'Arizona', 'California', 'California', 'California', 'Iowa', 'Iowa', 'Iowa'],\n",
    "        'year': [2019, 2020, 2021, 2019, 2020, 2021, 2019, 2020, 2021],\n",
    "        'area planted': [637, 573, 616, 2983, 2621, 2550, 23935, 24330, 24330]}\n",
    "        \n",
    "df = pd.DataFrame(data)\n",
    "df"
   ]
  },
  {
   "cell_type": "code",
   "execution_count": null,
   "id": "important-former",
   "metadata": {},
   "outputs": [],
   "source": [
    "df2 = df\n",
    "\n",
    "df2 is df"
   ]
  },
  {
   "cell_type": "code",
   "execution_count": null,
   "id": "breeding-learning",
   "metadata": {},
   "outputs": [],
   "source": [
    "df2.loc[df2['state'] == 'Arizona', 'year'] = [1,2,3]\n",
    "df2"
   ]
  },
  {
   "cell_type": "code",
   "execution_count": null,
   "id": "rational-nickname",
   "metadata": {},
   "outputs": [],
   "source": [
    "df"
   ]
  },
  {
   "cell_type": "code",
   "execution_count": null,
   "id": "civic-transparency",
   "metadata": {},
   "outputs": [],
   "source": [
    "#Also Note:\n",
    "#To get cells by column values:\n",
    "display(df2.loc[(df2['state'] == 'California')])\n",
    "\n",
    "display(df2.loc[(df2['state'] == 'California') & (df2['year'] == 2019)])"
   ]
  },
  {
   "cell_type": "code",
   "execution_count": null,
   "id": "approximate-designation",
   "metadata": {},
   "outputs": [],
   "source": [
    "#Or just:\n",
    "df2[(df2['state'] == 'Arizona') & (df2['year'] == 1)]"
   ]
  },
  {
   "cell_type": "code",
   "execution_count": null,
   "id": "accepting-wiring",
   "metadata": {},
   "outputs": [],
   "source": []
  }
 ],
 "metadata": {
  "kernelspec": {
   "display_name": "Python 3",
   "language": "python",
   "name": "python3"
  },
  "language_info": {
   "codemirror_mode": {
    "name": "ipython",
    "version": 3
   },
   "file_extension": ".py",
   "mimetype": "text/x-python",
   "name": "python",
   "nbconvert_exporter": "python",
   "pygments_lexer": "ipython3",
   "version": "3.7.7"
  }
 },
 "nbformat": 4,
 "nbformat_minor": 5
}
