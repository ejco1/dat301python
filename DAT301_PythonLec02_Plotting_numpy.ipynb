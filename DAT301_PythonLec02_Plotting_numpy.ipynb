{
 "cells": [
  {
   "cell_type": "markdown",
   "id": "terminal-permission",
   "metadata": {},
   "source": [
    "### Plotting in matplotlib, NumPy\n",
    "\n",
    "Let's jump into some basic plots with `matplotlib`"
   ]
  },
  {
   "cell_type": "code",
   "execution_count": null,
   "id": "expressed-competition",
   "metadata": {},
   "outputs": [],
   "source": [
    "#We'll need matplotlib and numpy for what follows\n",
    "import matplotlib.pyplot as plt\n",
    "import numpy as np"
   ]
  },
  {
   "cell_type": "code",
   "execution_count": null,
   "id": "periodic-response",
   "metadata": {},
   "outputs": [],
   "source": [
    "#Time for matplotlib\n",
    "#####\n",
    "\n",
    "#Note the magic commands:\n",
    "\n",
    "#%matplotlib\n",
    "#%matplotlib qt5\n",
    "#%matplotlib notebook\n",
    "%matplotlib inline\n",
    "\n",
    "#Let's do a quick, sample plot!\n",
    "x = np.linspace(0,10,100)\n",
    "y = np.sin(x)\n",
    "\n",
    "#And can just plot with good ole' matplotlib\n",
    "plt.plot(y)"
   ]
  },
  {
   "cell_type": "code",
   "execution_count": null,
   "id": "graduate-aberdeen",
   "metadata": {},
   "outputs": [],
   "source": [
    "#The above isn't terribly aesthetic or exciting, so how can we make nicer?\n",
    "#%matplotlib notebook\n",
    "\n",
    "fig1, ax1 = plt.subplots(1, 1, figsize=(10, 6))\n",
    "\n",
    "ax1.plot(x,y/4, linewidth=3, linestyle=\"dashed\", c=(.9, .1, .1, .7), label=\"Line 1\")\n",
    "ax1.plot(x,y**2, linewidth=5, c='blue', alpha=.5, label=\"Line 2\")\n",
    "\n",
    "#Let's set labels and fontsizes:\n",
    "ax1.set_xlabel('Why, this is the x-axis', fontsize=16)\n",
    "ax1.set_ylabel('And here\\'s y', fontsize=16)\n",
    "ax1.tick_params(axis='both', labelsize=16)\n",
    "\n",
    "#Title and legend\n",
    "ax1.set_title(\"The Title!\", fontsize=16, fontweight=\"bold\");\n",
    "\n",
    "ax1.legend(fontsize=14, loc='lower left')\n",
    "\n",
    "#Plus, let's tighten the x limits:\n",
    "ax1.set_xlim([0, 10]);"
   ]
  },
  {
   "cell_type": "code",
   "execution_count": null,
   "id": "forty-blond",
   "metadata": {},
   "outputs": [],
   "source": [
    "#Can also control linestyle \"Matlab\"-style\n",
    "#####\n",
    "\n",
    "#Get some random \"Data\"\n",
    "y = np.random.randint(1, 5, 20).cumsum()\n",
    "x = np.random.uniform(0, 10, 20)\n",
    "\n",
    "x.sort()\n",
    "\n",
    "#And plot...\n",
    "plt.figure(figsize=(12,8))\n",
    "\n",
    "plt.plot(x, y, 'k*--', label='Default')\n",
    "\n",
    "plt.plot(x, y, 'b-', drawstyle='steps', label='steps', alpha=.5)\n",
    "plt.plot(x, y, 'r-', drawstyle='steps-post', label='steps-post', alpha=.5)\n",
    "\n",
    "#Drawstyle options:\n",
    "#'default', 'steps', 'steps-pre', 'steps-mid', 'steps-post'\n",
    "        \n",
    "plt.legend(loc='upper left', fontsize=14)   #see also plt.legend(loc='best')"
   ]
  },
  {
   "cell_type": "code",
   "execution_count": null,
   "id": "impressive-distributor",
   "metadata": {},
   "outputs": [],
   "source": [
    "#We can make a \"scatter plot\" like this:\n",
    "fig1, ax1 = plt.subplots(1, 1, figsize=(10, 6))\n",
    "\n",
    "ax1.plot(x, y, 'o', markersize = 15, color='darkred')"
   ]
  },
  {
   "cell_type": "code",
   "execution_count": null,
   "id": "hydraulic-choir",
   "metadata": {
    "scrolled": false
   },
   "outputs": [],
   "source": [
    "#Or use a designated scatter plot: \n",
    "fig1, ax1 = plt.subplots(1, 1, figsize=(10, 6))\n",
    "\n",
    "ax1.scatter(x, y, c = y, s = abs(y)*25, cmap='Blues')\n",
    "\n",
    "#Let's set labels and fontsizes:\n",
    "ax1.set_xlabel('Why, this is the x-axis', fontsize=16)\n",
    "ax1.set_ylabel('And here\\'s y', fontsize=16)\n",
    "\n",
    "#Also make the ticks bigger\n",
    "ax1.tick_params(axis='both', labelsize=16)"
   ]
  },
  {
   "cell_type": "code",
   "execution_count": null,
   "id": "annoying-pizza",
   "metadata": {},
   "outputs": [],
   "source": [
    "#Some more scatter plots...\n",
    "##########\n",
    "\n",
    "#Get a sinusoids\n",
    "N = 100\n",
    "\n",
    "x = np.linspace(0,10,N)\n",
    "y = np.sin(x)\n",
    "\n",
    "#Add some normal rands:\n",
    "sigma = .15;\n",
    "mu = 10\n",
    "n_rand_vals = np.random.normal(mu, sigma, N)\n",
    "\n",
    "y += n_rand_vals\n",
    "\n",
    "#Let's make a subplots axis here:\n",
    "fig1, ax1 = plt.subplots(1, 1, figsize=(10, 6))\n",
    "\n",
    "ax1.scatter(x, y, s = np.random.randint(10, 250, N), c = y, cmap='jet')"
   ]
  },
  {
   "cell_type": "code",
   "execution_count": null,
   "id": "violent-begin",
   "metadata": {},
   "outputs": [],
   "source": [
    "#Another Example\n",
    "N = 100\n",
    "\n",
    "x = np.linspace(0,20,N)\n",
    "y = x**1.5 + 10*np.sin(x)\n",
    "\n",
    "y = y + np.random.uniform(-1,1,N)\n",
    "x = x + (np.random.random(N)*2 - 1)\n",
    "\n",
    "#Let's make a subplots axis here:\n",
    "fig1, ax1 = plt.subplots(1, 1, figsize=(12, 8))\n",
    "\n",
    "ax1.scatter(x, y, c = y, s = abs(y)*10, cmap='viridis', alpha=.5)"
   ]
  },
  {
   "cell_type": "markdown",
   "id": "national-belief",
   "metadata": {},
   "source": [
    "### Subplots"
   ]
  },
  {
   "cell_type": "code",
   "execution_count": null,
   "id": "becoming-inspector",
   "metadata": {},
   "outputs": [],
   "source": [
    "#Simplest method\n",
    "################\n",
    "\n",
    "fig1, ax1 = plt.subplots(3,3,figsize=(16,12))\n",
    "\n",
    "#Could set seed for reproducibility\n",
    "#np.random.seed(0)\n",
    "\n",
    "N = 50\n",
    "\n",
    "#And index thus:\n",
    "index = 0\n",
    "for i in range(3):\n",
    "    for j in range(3):\n",
    "        #Can construct a simple random walk\n",
    "        steps1 = np.random.choice([-1,1], N)\n",
    "        #steps2 = np.random.choice([-1,1], N)\n",
    "        \n",
    "        #Another way:\n",
    "        #draw1 = np.random.randint(0,2,N)\n",
    "        #draw2 = np.random.randint(0,2,N)\n",
    "        \n",
    "        #Gives 1 if x > 0, -1 else\n",
    "        #steps1 = np.where(draw1 > 0, 1, -1)\n",
    "        #steps2 = np.where(draw2 > 0, 1, -1)\n",
    "        \n",
    "        x = steps1.cumsum()\n",
    "        #y = steps2.cumsum()\n",
    "        \n",
    "        ax1[i, j].plot(x, marker = '.', markersize = 10)\n",
    "\n",
    "        index +=1"
   ]
  },
  {
   "cell_type": "code",
   "execution_count": null,
   "id": "adjacent-consumption",
   "metadata": {},
   "outputs": [],
   "source": [
    "#Alternative subplot method\n",
    "###########################\n",
    "\n",
    "#Can set up grids of subplots using add_subplot:\n",
    "\n",
    "#Start with a nice figure\n",
    "fig = plt.figure(figsize=(10,6), dpi=90)\n",
    "\n",
    "ax1 = fig.add_subplot(2, 2, 1) \n",
    "ax2 = fig.add_subplot(2, 2, 2)  \n",
    "ax3 = fig.add_subplot(2, 2, 3)\n",
    "ax4 = fig.add_subplot(2, 2, 4)\n",
    "\n",
    "#Can make a nested tuple or list of ax for easier reference:\n",
    "ax = [[ax1, ax2], [ax3, ax4]]\n",
    "\n",
    "x = np.linspace(0,10,100)\n",
    "\n",
    "\n",
    "#Let's also add our own colormap here:\n",
    "from matplotlib import cm\n",
    "\n",
    "my_cmap = cm.get_cmap('jet', 4)\n",
    "\n",
    "\n",
    "index = 0\n",
    "for i in range(2):\n",
    "    for j in range(2):\n",
    "        y = np.sin(x)\n",
    "        \n",
    "        ax[i][j].plot(x, y, linewidth=3, color = my_cmap(index), alpha=.8)\n",
    "\n",
    "        index +=1\n",
    "        "
   ]
  },
  {
   "cell_type": "code",
   "execution_count": null,
   "id": "stuck-control",
   "metadata": {
    "scrolled": false
   },
   "outputs": [],
   "source": [
    "#This style is more useful in creating custom grids:\n",
    "#Example:\n",
    "\n",
    "fig = plt.figure(figsize=(12,8))\n",
    "\n",
    "ax1 = fig.add_subplot(4, 4, 1) \n",
    "ax2 = fig.add_subplot(4, 4, 2)\n",
    "ax3 = fig.add_subplot(4, 4, 5)\n",
    "ax4 = fig.add_subplot(4, 4, 6)\n",
    "\n",
    "ax5 = fig.add_subplot(2, 2, 3)\n",
    "ax6 = fig.add_subplot(1, 2, 2)\n",
    "\n",
    "#We can also adjust space around subplots:\n",
    "plt.subplots_adjust(wspace=0.25, hspace=0.25) "
   ]
  },
  {
   "cell_type": "code",
   "execution_count": null,
   "id": "expected-enforcement",
   "metadata": {},
   "outputs": [],
   "source": [
    "#Can also do some inset axes\n",
    "#######\n",
    "\n",
    "from mpl_toolkits.axes_grid1.inset_locator import inset_axes\n",
    "\n",
    "\n",
    "fig1, ax1 = plt.subplots(1, 1, figsize=(14,8))\n",
    "\n",
    "axins1 = inset_axes(ax1, width=\"37.5%\", height=\"47.5%\", loc=4, borderpad=3)\n",
    "\n",
    "#Note this doesn't seem totally stable yet: May have to play with/modify\n",
    "axins2 = inset_axes(ax1, width=2.75, height=1.75, bbox_to_anchor=(.35,.25), bbox_transform=ax1.transAxes)\n",
    "\n",
    "\n",
    "x = np.linspace(0,10,100)\n",
    "y = np.sin(x)\n",
    "ax1.plot(x, y, linewidth=3)\n",
    "axins1.plot(x, y, linewidth=3)\n",
    "axins2.plot(x, y, linewidth=3)"
   ]
  },
  {
   "cell_type": "markdown",
   "id": "romance-domestic",
   "metadata": {},
   "source": [
    "And more advanced for more customization..."
   ]
  },
  {
   "cell_type": "code",
   "execution_count": null,
   "id": "reliable-transaction",
   "metadata": {},
   "outputs": [],
   "source": [
    "#Example:\n",
    "#Setup figure\n",
    "fig = plt.figure(figsize=(12, 6), constrained_layout=False, dpi=300)\n",
    "\n",
    "widths = [1.05, .9, .55]\n",
    "heights = [.1, .95, .95, .1]\n",
    "\n",
    "spec = fig.add_gridspec(ncols=3, nrows=4, width_ratios=widths,\n",
    "                          height_ratios=heights, wspace=0.35, hspace=.35)\n",
    "\n",
    "ax1 = fig.add_subplot(spec[0:4,0])\n",
    "ax2 = fig.add_subplot(spec[1,1])\n",
    "ax3 = fig.add_subplot(spec[2,1])\n",
    "ax4 = fig.add_subplot(spec[1:3,2])\n",
    "\n",
    "plt.show()"
   ]
  },
  {
   "cell_type": "code",
   "execution_count": null,
   "id": "vertical-desire",
   "metadata": {},
   "outputs": [],
   "source": [
    "#Another example\n",
    "fig = plt.figure(figsize=(15, 14), constrained_layout=False, dpi=300)\n",
    "\n",
    "widths = [1, .3]\n",
    "\n",
    "heights = [.1, .75, .5, .1, .75, .5]\n",
    "\n",
    "spec = fig.add_gridspec(ncols=2, nrows=6, width_ratios=widths,\n",
    "                          height_ratios=heights, wspace=0.01, hspace=.55)\n",
    "\n",
    "ax1 = fig.add_subplot(spec[0:3,0])\n",
    "ax2 = fig.add_subplot(spec[3:6,0])\n",
    "ax3 = fig.add_subplot(spec[1,1])\n",
    "ax3b = fig.add_subplot(spec[2,1])\n",
    "ax4 = fig.add_subplot(spec[4,1])\n",
    "ax4b = fig.add_subplot(spec[5,1])\n",
    "\n",
    "plt.show()"
   ]
  },
  {
   "cell_type": "markdown",
   "id": "organizational-fence",
   "metadata": {},
   "source": [
    "#### Histograms"
   ]
  },
  {
   "cell_type": "code",
   "execution_count": null,
   "id": "intense-example",
   "metadata": {},
   "outputs": [],
   "source": [
    "#To plot a histogram...\n",
    "####\n",
    "\n",
    "#Make a couple lists of normal random variables\n",
    "N = 1000\n",
    "\n",
    "rv1 = np.random.randn(N) + 3\n",
    "rv2 = np.random.randn(N)\n",
    "\n",
    "#Note different ways to define bins:\n",
    "n, bins, patches = plt.hist(rv1, bins = 30, rwidth = .8, facecolor='darkblue', \\\n",
    "                            edgecolor='black', linewidth = 2, alpha=0.75, label='blue one') #, histtype='stepfilled', cumulative=True)\n",
    "\n",
    "n, bins, patches = plt.hist(rv2, bins = 30, rwidth = .8, facecolor='red', \\\n",
    "                            edgecolor='black', linewidth = 2, alpha=0.75, label='red one') #, density=True)\n",
    "                    # histtype='stepfilled', cumulative=True)\n",
    "    \n",
    "plt.legend();"
   ]
  },
  {
   "cell_type": "markdown",
   "id": "satellite-shift",
   "metadata": {},
   "source": [
    "#### Annotation and drawing"
   ]
  },
  {
   "cell_type": "code",
   "execution_count": null,
   "id": "color-prime",
   "metadata": {
    "scrolled": false
   },
   "outputs": [],
   "source": [
    "#Add some annotations to a random walk time-series\n",
    "##########\n",
    "\n",
    "N = 500\n",
    "data = np.random.choice([-1,1], N).cumsum()\n",
    "t = np.arange(N)\n",
    "\n",
    "fig1, ax1 = plt.subplots(1, 1, figsize=(10,8))\n",
    "\n",
    "ax1.plot(t, data, color=(.7, .3, .3))\n",
    "\n",
    "\n",
    "#Add some text:\n",
    "####\n",
    "\n",
    "N1 = 50\n",
    "\n",
    "x = t[N1]; y = data[N1] + 10\n",
    "text_str = 'I\\'m text!'\n",
    "\n",
    "#ax1.text(x, y, text_str, fontsize=16)\n",
    "\n",
    "#Fancier:\n",
    "ax1.text(x, y, text_str, fontsize=16, color=(.75, 0.1, 0.1, .9), fontweight='bold',\n",
    "         bbox={'facecolor':'blue','alpha':.25,'edgecolor':'black','pad':10},\n",
    "         ha='center', va='center')\n",
    "\n",
    "\n",
    "\n",
    "#Add some \"Annotations\"\n",
    "#########\n",
    "\n",
    "crisis_data = ((150, 'Big Crisis'), (200, 'Little Crisis'), (300, 'Meh Crisis'))\n",
    "\n",
    "for n, label in crisis_data:\n",
    "    ax1.annotate(label, xy = (n, data[n] + 2),\n",
    "                        xytext = (n, data[n] + 5),\n",
    "                        arrowprops = dict(facecolor='green', edgecolor='blue', headwidth=8, width=3, headlength=8),\n",
    "                        fontsize=14, color='blue')"
   ]
  },
  {
   "cell_type": "code",
   "execution_count": null,
   "id": "funny-nicholas",
   "metadata": {},
   "outputs": [],
   "source": [
    "#Can make shapes:\n",
    "################\n",
    "\n",
    "fig = plt.figure(figsize = (10,8))\n",
    "\n",
    "ax1 = fig.add_subplot(1,1,1)\n",
    "\n",
    "rect = plt.Rectangle((0.1, .2), .5, .15, color='blue', alpha=.5)\n",
    "circ = plt.Circle((.5, .5), .2, color=(.9, .0, .0), alpha=.6)\n",
    "pgon = plt.Polygon([[.15, .15], [.35, .4], [.2, .6]], color='green', alpha=.5)\n",
    "\n",
    "ax1.add_patch(rect)\n",
    "ax1.add_patch(circ)\n",
    "ax1.add_patch(pgon)"
   ]
  },
  {
   "cell_type": "markdown",
   "id": "becoming-compatibility",
   "metadata": {},
   "source": [
    "#### Saving plots\n",
    "\n",
    "Use something like:\n",
    "\n",
    "```\n",
    "plt.savefig('My_Fig.png', dpi=300, facecolor=\"white\", bbox_inches='tight', pad_inches=0.05)\n",
    "```"
   ]
  },
  {
   "cell_type": "markdown",
   "id": "strategic-motion",
   "metadata": {},
   "source": [
    "#### Python is an object-oriented language...\n",
    "\n",
    "Usually used more for scripting in data science, especially here in notebooks. But, we can examine one quick example of object-oriented programming..."
   ]
  },
  {
   "cell_type": "code",
   "execution_count": null,
   "id": "retired-steps",
   "metadata": {
    "scrolled": false
   },
   "outputs": [],
   "source": [
    "#Make a random walk\n",
    "#Plot using scatter\n",
    "\n",
    "class RandomWalk():\n",
    "    \n",
    "    def __init__(self, num_points = 100):\n",
    "        pass\n",
    "    \n",
    "    def get_walk(self, num_points = 100):\n",
    "        self.xvals = [0]\n",
    "        self.yvals = [0]\n",
    "        self.point_num = [0]\n",
    "        \n",
    "        for k in range(1,num_points+1):\n",
    "            #Make random step directions\n",
    "            x_dir = np.random.choice([-1, 1])\n",
    "            y_dir = np.random.choice([-1, 1])\n",
    "            \n",
    "            #Random step magnitudes\n",
    "            x_dist = np.random.choice([q for q in range(5)])\n",
    "            y_dist = np.random.choice([q for q in range(5)])\n",
    "            \n",
    "            #Append to a list of locations\n",
    "            self.xvals.append(self.xvals[k-1] + x_dir*x_dist)\n",
    "            self.yvals.append(self.yvals[k-1] + y_dir*y_dist)\n",
    "            self.point_num.append(k)\n",
    "\n",
    "\n",
    "            \n",
    "#Get a walk\n",
    "walk = RandomWalk()\n",
    "walk.get_walk(10000)\n",
    "\n",
    "plt.figure(figsize=(12,8))\n",
    "\n",
    "plt.scatter(walk.xvals, walk.yvals, s = np.sqrt(walk.point_num), edgecolor = 'none', c = walk.point_num,\n",
    "            cmap='ocean', alpha = .6)\n"
   ]
  },
  {
   "cell_type": "markdown",
   "id": "considered-justice",
   "metadata": {},
   "source": [
    "### NumPy\n",
    "\n",
    "Let's officially go over some of the fundamentals of NumPy\n",
    "\n",
    "- numpy was developed for fast computation with large arrays\n",
    "- Fast vectorized operations without need for loops\n",
    "- C API for connecting NumPy with libraries written in C, C++, FORTRAN\n",
    "\n",
    "- NumPy stores data internally in large contiguous blocks of memory\n",
    "- NumPy libraries written in C and act on memory without Python interpreter overhead\n",
    "- Much faster than other Python data types"
   ]
  },
  {
   "cell_type": "markdown",
   "id": "indonesian-progressive",
   "metadata": {},
   "source": [
    "N-Dimensional array object, `ndarray`, is primary data container in NumPy "
   ]
  },
  {
   "cell_type": "code",
   "execution_count": null,
   "id": "continental-aquatic",
   "metadata": {
    "scrolled": true
   },
   "outputs": [],
   "source": [
    "#Let's make a numpy array, and plot\n",
    "#Already saw some of this\n",
    "import numpy as np\n",
    "\n",
    "#One way to make an ndarray (nd = n-dimensional array, very similar to MATLAB arrays/matrices)\n",
    "x = np.array([1,2,3,4,5,6,7,8,9,10])\n",
    "\n",
    "#A better way:\n",
    "y = np.array(np.arange(1,10))\n",
    "\n",
    "#Or just:\n",
    "z = np.arange(1,10)\n",
    "\n",
    "#And can do simple plot, as above:\n",
    "plt.plot(x,x**2)"
   ]
  },
  {
   "cell_type": "code",
   "execution_count": null,
   "id": "passing-heritage",
   "metadata": {},
   "outputs": [],
   "source": [
    "#Another good way to make numpy arrays\n",
    "####\n",
    "x = np.linspace(0,10,100)\n",
    "\n",
    "y = np.cos(x)**3\n",
    "\n",
    "plt.plot(x,y)"
   ]
  },
  {
   "cell_type": "markdown",
   "id": "revised-willow",
   "metadata": {},
   "source": [
    "`ndarray`s have `ndim`, `shape`, and `dtype`:"
   ]
  },
  {
   "cell_type": "code",
   "execution_count": null,
   "id": "tribal-lover",
   "metadata": {},
   "outputs": [],
   "source": [
    "data = np.random.randn(2,3)\n",
    "\n",
    "display(data)\n",
    "\n",
    "print(data.ndim)\n",
    "print(data.shape)\n",
    "print(data.dtype)"
   ]
  },
  {
   "cell_type": "code",
   "execution_count": null,
   "id": "retained-basics",
   "metadata": {},
   "outputs": [],
   "source": [
    "#numpy is *way* faster than lists\n",
    "#Can see with the following...\n",
    "#Do element-wise multiplication a bunch of times...\n",
    "\n",
    "#Will import time package\n",
    "import time\n",
    "\n",
    "\n",
    "arr_list = list(range(0,int(1e6)))\n",
    "arr_np = np.arange(0,1e6)\n",
    "\n",
    "#Do list way\n",
    "####\n",
    "start = time.time()\n",
    "for k in range(100):\n",
    "    arr_list = [i*2 for i in arr_list]\n",
    "\n",
    "end = time.time()\n",
    "\n",
    "print('Elapsed: ' + str(end-start))\n",
    "\n",
    "\n",
    "#Do numpy way\n",
    "####\n",
    "start = time.time()\n",
    "for k in range(100):\n",
    "    arr_np = arr_np*2\n",
    "\n",
    "end = time.time()\n",
    "\n",
    "print('Elapsed: ' + str(end-start))\n"
   ]
  },
  {
   "cell_type": "code",
   "execution_count": null,
   "id": "northern-edmonton",
   "metadata": {},
   "outputs": [],
   "source": [
    "%%time\n",
    "#Can also do a quick version using magic %time:\n",
    "#Above is a magic command applied to whole cell: MUST come on first line of cell (including comments)\n",
    "#A magic command prefixed with a single % applies to the following line\n",
    "\n",
    "%time for k in range(100): arr_np = arr_np*2   "
   ]
  },
  {
   "cell_type": "code",
   "execution_count": null,
   "id": "olympic-indie",
   "metadata": {},
   "outputs": [],
   "source": [
    "#Note int vs. float, multiplication vs. division\n",
    "####\n",
    "#Try ushort, cdouble,...\n",
    "arr_np = np.arange(0,1e6, dtype= np.float64)\n",
    "\n",
    "%time for k in range(100): arr_np = arr_np*2"
   ]
  },
  {
   "cell_type": "code",
   "execution_count": null,
   "id": "olympic-sessions",
   "metadata": {},
   "outputs": [],
   "source": [
    "#Some casting\n",
    "arr_np = np.arange(0,1e1, dtype=np.int32)\n",
    "arr_np = arr_np.astype(np.int64)\n",
    "\n",
    "type(arr_np[0])\n",
    "#######\n",
    "#See: https://numpy.org/doc/stable/user/basics.types.html for type lists\n",
    "#######"
   ]
  },
  {
   "cell_type": "code",
   "execution_count": null,
   "id": "alien-barrel",
   "metadata": {},
   "outputs": [],
   "source": [
    "#Note scalars of different types:\n",
    "f16 = np.float16(.1)\n",
    "f32 = np.float32(.1)\n",
    "f64 = np.float64(.1)\n",
    "\n",
    "f16 == f32 == f64\n",
    "\n",
    "#type(f16)"
   ]
  },
  {
   "cell_type": "code",
   "execution_count": null,
   "id": "intensive-intake",
   "metadata": {},
   "outputs": [],
   "source": [
    "#Note overflow: This can be source of cryptic error\n",
    "u32 = np.int32(2)\n",
    "u32 = u32**31\n",
    "u32\n",
    "#type(u32)"
   ]
  },
  {
   "cell_type": "markdown",
   "id": "perceived-display",
   "metadata": {},
   "source": [
    "#### Multi-dimensional arrays\n",
    "\n",
    "More on creating arrays...There are many built-in functions for making arrays, in addition to `array`:"
   ]
  },
  {
   "cell_type": "code",
   "execution_count": null,
   "id": "abandoned-creek",
   "metadata": {},
   "outputs": [],
   "source": [
    "#A random array\n",
    "###\n",
    "rand_arr = np.random.rand(4,3).round(2)\n",
    "\n",
    "rand_arr"
   ]
  },
  {
   "cell_type": "code",
   "execution_count": null,
   "id": "unavailable-empty",
   "metadata": {},
   "outputs": [],
   "source": [
    "B = np.ones([2,3])\n",
    "B"
   ]
  },
  {
   "cell_type": "code",
   "execution_count": null,
   "id": "dressed-march",
   "metadata": {},
   "outputs": [],
   "source": [
    "#Some other arrays\n",
    "#Note slightly different formats\n",
    "A = np.eye(3,3) #Or identity\n",
    "A\n",
    "#B = np.ones([2,3])\n",
    "#C = np.zeros([3,5])\n",
    "#D = np.empty((2, 3, 2))"
   ]
  },
  {
   "cell_type": "code",
   "execution_count": null,
   "id": "nearby-cherry",
   "metadata": {},
   "outputs": [],
   "source": [
    "#And this way:\n",
    "A = np.array([[1,2,3],[4,5,6]])\n",
    "A"
   ]
  },
  {
   "cell_type": "code",
   "execution_count": null,
   "id": "respiratory-tuner",
   "metadata": {},
   "outputs": [],
   "source": [
    "#Also have ones_like, zeros_like, empty_like:\n",
    "B = np.ones_like(A)\n",
    "B\n",
    "#C = np.zeros_like(A)\n",
    "#D = np.empty_like(A)"
   ]
  },
  {
   "cell_type": "code",
   "execution_count": null,
   "id": "prostate-builder",
   "metadata": {},
   "outputs": [],
   "source": [
    "#Can do matrix multiplication\n",
    "A = np.array([[1,2],[3,4]])\n",
    "B = np.array([[1, 2], [1,1]])\n",
    "print(A)\n",
    "print(\"\")\n",
    "print(B)\n",
    "\n",
    "print(\"\")\n",
    "\n",
    "#Element-wise:\n",
    "print(A*B)\n",
    "\n",
    "#Matrix multiplication:\n",
    "np.dot(A,B)"
   ]
  },
  {
   "cell_type": "markdown",
   "id": "olympic-camcorder",
   "metadata": {},
   "source": [
    "Arithmetic on NumPy arrays:"
   ]
  },
  {
   "cell_type": "code",
   "execution_count": null,
   "id": "cleared-persian",
   "metadata": {},
   "outputs": [],
   "source": [
    "#Addition, subtraction, scalar multiplication...\n",
    "A = np.ones([2,3])\n",
    "\n",
    "\n",
    "A*2 - A*3"
   ]
  },
  {
   "cell_type": "code",
   "execution_count": null,
   "id": "blank-collector",
   "metadata": {},
   "outputs": [],
   "source": [
    "A * .3"
   ]
  },
  {
   "cell_type": "code",
   "execution_count": null,
   "id": "proved-planner",
   "metadata": {},
   "outputs": [],
   "source": [
    "#Can do inner (dot) and outer products:\n",
    "a = np.arange(4)\n",
    "b = np.array([-2,1,0,3])\n",
    "\n",
    "np.dot(a,b)"
   ]
  },
  {
   "cell_type": "code",
   "execution_count": null,
   "id": "abroad-october",
   "metadata": {},
   "outputs": [],
   "source": [
    "np.outer(a,b)"
   ]
  },
  {
   "cell_type": "markdown",
   "id": "rural-electricity",
   "metadata": {},
   "source": [
    "Concatenating:"
   ]
  },
  {
   "cell_type": "code",
   "execution_count": null,
   "id": "excess-hampshire",
   "metadata": {},
   "outputs": [],
   "source": [
    "#Concatenate\n",
    "A = np.ones([2,2])\n",
    "B = np.ones([2,2])\n",
    "\n",
    "np.concatenate((A,B), axis=1)"
   ]
  },
  {
   "cell_type": "markdown",
   "id": "solved-miller",
   "metadata": {},
   "source": [
    "#### Basic Indexing and Slicing"
   ]
  },
  {
   "cell_type": "code",
   "execution_count": null,
   "id": "dress-exemption",
   "metadata": {},
   "outputs": [],
   "source": [
    "#In 1-D, similar to Python lists:\n",
    "#######\n",
    "\n",
    "a = np.arange(10)\n",
    "\n",
    "a[2:5]\n",
    "\n",
    "a[:-5]\n",
    "a[-5:-2]\n",
    "\n",
    "a[::-2]\n",
    "a[::2]\n",
    "a[-3:-5]\n",
    "\n",
    "#Can use a list in numpy!:\n",
    "a[[1,2,3]]\n",
    "\n",
    "a[-5:-2]"
   ]
  },
  {
   "cell_type": "code",
   "execution_count": null,
   "id": "personalized-dealer",
   "metadata": {},
   "outputs": [],
   "source": [
    "#Note slicing yields references in numpy:\n",
    "a = np.arange(10)\n",
    "\n",
    "a_slice = a[5:8]\n",
    "a_slice\n",
    "\n",
    "a_slice[0:2] = 99\n",
    "\n",
    "a"
   ]
  },
  {
   "cell_type": "code",
   "execution_count": null,
   "id": "romance-double",
   "metadata": {},
   "outputs": [],
   "source": [
    "#Need to use copy()\n",
    "a = np.arange(10)\n",
    "\n",
    "a_slice = a[5:8].copy()\n",
    "a_slice[0:2] = 99\n",
    "a"
   ]
  },
  {
   "cell_type": "markdown",
   "id": "arctic-mapping",
   "metadata": {},
   "source": [
    "#### Slicing in 2-D..."
   ]
  },
  {
   "cell_type": "code",
   "execution_count": null,
   "id": "chemical-federal",
   "metadata": {},
   "outputs": [],
   "source": [
    "#In 2-D\n",
    "#########\n",
    "A = np.array([[1, 2, 3], [4, 5, 6], [7, 8, 9]])\n",
    "A"
   ]
  },
  {
   "cell_type": "code",
   "execution_count": null,
   "id": "ready-bullet",
   "metadata": {},
   "outputs": [],
   "source": [
    "#Same:\n",
    "A[1][2]\n",
    "A[1, 2]"
   ]
  },
  {
   "cell_type": "code",
   "execution_count": null,
   "id": "composed-weekend",
   "metadata": {},
   "outputs": [],
   "source": [
    "A[0]"
   ]
  },
  {
   "cell_type": "code",
   "execution_count": null,
   "id": "lightweight-placement",
   "metadata": {},
   "outputs": [],
   "source": [
    "A[:,0]\n",
    "\n",
    "#Note this doesn't work (as intended):\n",
    "#A[:][0]"
   ]
  },
  {
   "cell_type": "code",
   "execution_count": null,
   "id": "twelve-change",
   "metadata": {},
   "outputs": [],
   "source": [
    "A[:,1]\n",
    "A[:,1:2]\n",
    "A[:,1:3]\n",
    "\n",
    "A[:2, 1:]\n",
    "\n",
    "A[0:2,-1]\n",
    "A[0:2,::-1]"
   ]
  },
  {
   "cell_type": "code",
   "execution_count": null,
   "id": "selected-india",
   "metadata": {},
   "outputs": [],
   "source": [
    "#We can assign single values to slices:\n",
    "A[1] = 99\n",
    "A"
   ]
  },
  {
   "cell_type": "code",
   "execution_count": null,
   "id": "characteristic-management",
   "metadata": {},
   "outputs": [],
   "source": [
    "A[:] = 42\n",
    "A"
   ]
  },
  {
   "cell_type": "code",
   "execution_count": null,
   "id": "federal-grain",
   "metadata": {},
   "outputs": [],
   "source": [
    "A[0:2,0:2] = 1\n",
    "\n",
    "A"
   ]
  },
  {
   "cell_type": "code",
   "execution_count": null,
   "id": "norwegian-mention",
   "metadata": {
    "scrolled": true
   },
   "outputs": [],
   "source": [
    "#We can cast, but this *sometimes* creates a copy:\n",
    "######\n",
    "\n",
    "#Try with np.float64:\n",
    "B = A[0:2,0:2].astype(np.int32)\n",
    "B[:,:] = 2\n",
    "\n",
    "display(B)\n",
    "A"
   ]
  },
  {
   "cell_type": "markdown",
   "id": "working-astrology",
   "metadata": {},
   "source": [
    "#### 3-D arrays"
   ]
  },
  {
   "cell_type": "code",
   "execution_count": null,
   "id": "streaming-louis",
   "metadata": {},
   "outputs": [],
   "source": [
    "arr3d = np.array([[[1, 2, 3], [4, 5, 6]], [[7, 8, 9], [10, 11, 12]]])\n",
    "arr3d"
   ]
  },
  {
   "cell_type": "code",
   "execution_count": null,
   "id": "complicated-floor",
   "metadata": {},
   "outputs": [],
   "source": [
    "arr3d.shape"
   ]
  },
  {
   "cell_type": "code",
   "execution_count": null,
   "id": "intimate-surface",
   "metadata": {},
   "outputs": [],
   "source": [
    "arr3d[0, :, 0:2]"
   ]
  },
  {
   "cell_type": "code",
   "execution_count": null,
   "id": "pretty-aurora",
   "metadata": {},
   "outputs": [],
   "source": [
    "arr3d[0:2, 0]"
   ]
  },
  {
   "cell_type": "markdown",
   "id": "manufactured-sheffield",
   "metadata": {},
   "source": [
    "#### Boolean Indexing"
   ]
  },
  {
   "cell_type": "code",
   "execution_count": null,
   "id": "handed-apache",
   "metadata": {},
   "outputs": [],
   "source": [
    "A = np.array([[1, 2, 3], [4, 5, 6]])\n",
    "B = np.array([[0, 1, 4], [6, -2, 7]])\n",
    "\n",
    "print(A, \"\\n\")\n",
    "print(B, \"\\n\")\n",
    "\n",
    "#Can do boolean masking similar to R:\n",
    "print(A > B, \"\\n\")\n",
    "\n",
    "A[A > B]"
   ]
  },
  {
   "cell_type": "code",
   "execution_count": null,
   "id": "undefined-bargain",
   "metadata": {},
   "outputs": [],
   "source": [
    "#Consider also:\n",
    "data = np.array(np.arange(1,29)) #np.random.randn(7,4).round(2)\n",
    "\n",
    "data = data.reshape((7,4))\n",
    "\n",
    "data"
   ]
  },
  {
   "cell_type": "code",
   "execution_count": null,
   "id": "going-depth",
   "metadata": {},
   "outputs": [],
   "source": [
    "#Now do boolean indexing:\n",
    "\n",
    "codes = np.array(['A', 'B', 'C', 'D', 'A', 'E', 'F'])\n",
    "\n",
    "codes == 'A'\n",
    "\n",
    "data[codes == 'A']"
   ]
  },
  {
   "cell_type": "code",
   "execution_count": null,
   "id": "terminal-editing",
   "metadata": {},
   "outputs": [],
   "source": [
    "data[~(codes == 'A')]\n",
    "#Or:\n",
    "#data[codes != 'A']"
   ]
  },
  {
   "cell_type": "code",
   "execution_count": null,
   "id": "filled-auditor",
   "metadata": {},
   "outputs": [],
   "source": [
    "#Can use &, | (Not and, or)\n",
    "mask = (codes == 'A') | (codes == 'B')\n",
    "\n",
    "data[mask]"
   ]
  },
  {
   "cell_type": "code",
   "execution_count": null,
   "id": "conditional-gospel",
   "metadata": {},
   "outputs": [],
   "source": [
    "#More masking\n",
    "####\n",
    "data[data > 20] = 0\n",
    "data\n",
    "\n",
    "data[mask] = -1\n",
    "\n",
    "data"
   ]
  },
  {
   "cell_type": "markdown",
   "id": "several-ceremony",
   "metadata": {},
   "source": [
    "#### Re-shaping and transposing"
   ]
  },
  {
   "cell_type": "code",
   "execution_count": null,
   "id": "psychological-therapist",
   "metadata": {},
   "outputs": [],
   "source": [
    "arr = np.arange(15).reshape((3, 5))\n",
    "print(arr)\n",
    "arr.T"
   ]
  },
  {
   "cell_type": "code",
   "execution_count": null,
   "id": "located-airfare",
   "metadata": {},
   "outputs": [],
   "source": [
    "#In higher dimensions:\n",
    "arr = np.arange(16).reshape(2,2,4)\n",
    "print(arr)\n",
    "\n",
    "#Re-order with axis 1 as second, axis 2 as first, axis three stays third\n",
    "arr.transpose(1,0,2)"
   ]
  },
  {
   "cell_type": "markdown",
   "id": "automotive-evanescence",
   "metadata": {},
   "source": [
    "#### Universal Functions\n",
    "\n",
    "Universal functions perform element-wise operations on ndarrays, often simple *unary* ufuncs:"
   ]
  },
  {
   "cell_type": "code",
   "execution_count": null,
   "id": "bottom-voltage",
   "metadata": {
    "scrolled": true
   },
   "outputs": [],
   "source": [
    "A = np.arange(10)\n",
    "\n",
    "print(np.sqrt(A), '\\n')\n",
    "\n",
    "print(np.exp(A))"
   ]
  },
  {
   "cell_type": "markdown",
   "id": "stable-college",
   "metadata": {},
   "source": [
    "Act on two arrays, return a single array:"
   ]
  },
  {
   "cell_type": "code",
   "execution_count": null,
   "id": "emerging-portuguese",
   "metadata": {},
   "outputs": [],
   "source": [
    "x = np.array([1, 2, 3, 4, 9, 10])\n",
    "y = np.array([8, 5, 4, 1, 9, 10])\n",
    "\n",
    "np.maximum(x, y)"
   ]
  },
  {
   "cell_type": "markdown",
   "id": "alone-blood",
   "metadata": {},
   "source": [
    "Act on a single array, return two arrays:"
   ]
  },
  {
   "cell_type": "code",
   "execution_count": null,
   "id": "inner-transformation",
   "metadata": {},
   "outputs": [],
   "source": [
    "x = (np.random.randn(7) * 5).round(2)\n",
    "\n",
    "print(x, '\\n')\n",
    "\n",
    "remainder, whole_part = np.modf(x)\n",
    "\n",
    "print(remainder)\n",
    "print(whole_part)"
   ]
  },
  {
   "cell_type": "markdown",
   "id": "worst-lottery",
   "metadata": {},
   "source": [
    "### Some Aggregation Functions in numpy"
   ]
  },
  {
   "cell_type": "code",
   "execution_count": null,
   "id": "complimentary-journalist",
   "metadata": {},
   "outputs": [],
   "source": [
    "x = np.arange(20).reshape(5,4)\n",
    "x"
   ]
  },
  {
   "cell_type": "code",
   "execution_count": null,
   "id": "scheduled-technical",
   "metadata": {},
   "outputs": [],
   "source": [
    "x.mean()"
   ]
  },
  {
   "cell_type": "code",
   "execution_count": null,
   "id": "massive-lighting",
   "metadata": {},
   "outputs": [],
   "source": [
    "x.sum()\n",
    "x.min()\n",
    "x.max()\n",
    "x.std() #or x.var()"
   ]
  },
  {
   "cell_type": "code",
   "execution_count": null,
   "id": "fatty-movie",
   "metadata": {},
   "outputs": [],
   "source": [
    "x.mean(axis=1)"
   ]
  },
  {
   "cell_type": "code",
   "execution_count": null,
   "id": "bigger-cheese",
   "metadata": {},
   "outputs": [],
   "source": [
    "x.sum(axis=0)"
   ]
  },
  {
   "cell_type": "code",
   "execution_count": null,
   "id": "excess-tuner",
   "metadata": {},
   "outputs": [],
   "source": [
    "x.cumsum(axis=0)"
   ]
  },
  {
   "cell_type": "code",
   "execution_count": null,
   "id": "liberal-employment",
   "metadata": {
    "scrolled": true
   },
   "outputs": [],
   "source": [
    "x.cumprod(axis=1)"
   ]
  },
  {
   "cell_type": "markdown",
   "id": "reliable-witch",
   "metadata": {},
   "source": [
    "Note for booleans:"
   ]
  },
  {
   "cell_type": "code",
   "execution_count": null,
   "id": "german-warning",
   "metadata": {
    "scrolled": true
   },
   "outputs": [],
   "source": [
    "x = np.random.randn(50)\n",
    "\n",
    "(x > 0).sum()\n",
    "\n",
    "#(x > 0).any()\n",
    "#(x > 0).all()"
   ]
  },
  {
   "cell_type": "markdown",
   "id": "about-vocabulary",
   "metadata": {},
   "source": [
    "Get unique elements, sort:"
   ]
  },
  {
   "cell_type": "code",
   "execution_count": null,
   "id": "comparable-survivor",
   "metadata": {},
   "outputs": [],
   "source": [
    "x = np.array([7, 2, 1, 2, 1, 2, 3, 4, 2])\n",
    "\n",
    "x.sort()\n",
    "x\n",
    "\n",
    "#To reverse sort:\n",
    "#x[::-1].sort()\n",
    "\n",
    "#Or\n",
    "x.sort()\n",
    "x = x[::-1]\n",
    "x"
   ]
  },
  {
   "cell_type": "code",
   "execution_count": null,
   "id": "instrumental-conservation",
   "metadata": {},
   "outputs": [],
   "source": [
    "#Note that this sorts:\n",
    "np.unique(x)\n",
    "\n",
    "#Equivalent to\n",
    "sorted(set(x))"
   ]
  },
  {
   "cell_type": "markdown",
   "id": "revised-broad",
   "metadata": {},
   "source": [
    "To sort along an axis..."
   ]
  },
  {
   "cell_type": "code",
   "execution_count": null,
   "id": "suited-software",
   "metadata": {},
   "outputs": [],
   "source": [
    "x = np.random.randint(1, 50, 12).reshape(3,4)\n",
    "\n",
    "print(x)\n",
    "\n",
    "x.sort(0)\n",
    "x"
   ]
  },
  {
   "cell_type": "markdown",
   "id": "solved-manchester",
   "metadata": {},
   "source": [
    "#### Linear Algebra\n",
    "\n",
    "- From above, we had `A * B` gives us element-wise matrix multiplication. We use `np.dot(A,B)` for actual matrix multiplication.\n",
    "\n",
    "- `numpy.linalg` has a standard set of matrix decomposition and other matrix functions, like inverse, determinant, etc.\n",
    "\n",
    "Common functions:\n",
    "- `diag` ~ Return diagonal elements as 1D array\n",
    "- `dot` ~ Matrix multiplication\n",
    "- `trace` ~ Sum of diagonal elements\n",
    "- `det` ~ Matrix determinant\n",
    "- `eig` ~ eigenvalues/vectors of square matrix\n",
    "- `inv` ~ Inverse of square matrix\n",
    "- `pinv` ~ Moore-Penrose pseudo-inverse\n",
    "- `qr` ~ QR Decomposition\n",
    "- `svd` ~ Singular Value Decomposition\n",
    "- `solve` ~ Solve linear system Ax = b for x, where A is square matrix\n",
    "- `lstsq` ~ Compute least-squares solution to Ax=b"
   ]
  },
  {
   "cell_type": "code",
   "execution_count": null,
   "id": "upset-young",
   "metadata": {},
   "outputs": [],
   "source": [
    "#Ex:\n",
    "X = ((np.arange(16) + np.random.randn(16) / 10 * 0).round(2)).reshape(4,4)\n",
    "\n",
    "print(X)\n",
    "np.linalg.pinv(X)"
   ]
  },
  {
   "cell_type": "markdown",
   "id": "dental-technician",
   "metadata": {},
   "source": [
    "### 2-D Plotting with numpy and matplotlib\n",
    "\n",
    "We can also use vectorized operations in numpy to easily create 2-D arrays and visualize these in matplotlib.\n",
    "\n",
    "Let's define a function that gives us a pretty surface, and create a meshgrid. `np.meshgrid`:\n",
    "- Takes two 1D arrays\n",
    "- Returns two 2D matrices corresponding to all $(x, y)$ pairs in the two arrays\n",
    "- Can then evaluate expressions using these matrices same as with scalars or arrays"
   ]
  },
  {
   "cell_type": "code",
   "execution_count": null,
   "id": "christian-compact",
   "metadata": {},
   "outputs": [],
   "source": [
    "def f(x,y):\n",
    "    return np.exp(-(x+1)**2 - y**2) + (5 * x**3 + 2.5*y**4 - x) * np.exp(-x**2 - y**2)"
   ]
  },
  {
   "cell_type": "code",
   "execution_count": null,
   "id": "necessary-employee",
   "metadata": {},
   "outputs": [],
   "source": [
    "import numpy as np\n",
    "import matplotlib.pyplot as plt\n",
    "\n",
    "#Make the meshgrid:\n",
    "x1 = -3; x2 = 3\n",
    "y1 = -3; y2 = 3\n",
    "N = 100\n",
    "\n",
    "x = np.linspace(x1, x2, N)\n",
    "y = np.linspace(y1, y2, N)\n",
    "\n",
    "#Create a meshgrid...\n",
    "X, Y = np.meshgrid(x, y)\n",
    "\n",
    "print(X)\n",
    "print('\\n')\n",
    "print(Y)"
   ]
  },
  {
   "cell_type": "code",
   "execution_count": null,
   "id": "requested-quest",
   "metadata": {},
   "outputs": [],
   "source": [
    "#%matplotlib notebook \n",
    "%matplotlib inline\n",
    "\n",
    "#Get Z, then plot\n",
    "Z = f(X, Y)\n",
    "\n",
    "#Make 3D plot:\n",
    "fig, ax1 = plt.subplots(1,1,figsize=(10,10), dpi=90)\n",
    "ax1 = plt.axes(projection='3d')\n",
    "\n",
    "#Plot 3D\n",
    "ax1.plot_surface(X, Y, Z, rstride=2, cstride=2, cmap='jet', alpha=1, edgecolor='black')\n",
    "\n",
    "\n",
    "#Add a contour:\n",
    "#Also try contourf:\n",
    "ax1.contour(X, Y, Z, 30, zdir='z', offset=-1, cmap='jet', linewidths=1)\n",
    "\n",
    "#ax1.contour(X, Y, Z, zdir='x', offset=-1, cmap='jet')\n",
    "#ax1.contour(X, Y, Z, zdir='y', offset=1, cmap='jet')\n",
    "\n",
    "#Can set view...\n",
    "ax1.view_init(elev=25., azim=55.)\n",
    "\n",
    "\n",
    "ax1.set_zlim(-1, 1.5)\n",
    "\n",
    "ax1.set_xlabel('x')\n",
    "ax1.set_ylabel('y')\n",
    "ax1.set_zlabel('z')\n",
    "\n",
    "ax1.grid(False)"
   ]
  },
  {
   "cell_type": "code",
   "execution_count": null,
   "id": "minute-drawing",
   "metadata": {},
   "outputs": [],
   "source": [
    "#Can also plot the contours in 2-D\n",
    "#####\n",
    "\n",
    "%matplotlib inline\n",
    "\n",
    "#Can use a contourf = filled contour plot\n",
    "#Or just contour = unfilled\n",
    "fig, ax1 = plt.subplots(1,1,figsize=(8,8))\n",
    "ax1.contour(X, Y, Z, 20, cmap='jet')"
   ]
  },
  {
   "cell_type": "code",
   "execution_count": null,
   "id": "supported-valve",
   "metadata": {},
   "outputs": [],
   "source": [
    "#Plot both 2D and 3D in separate subplots?\n",
    "#########\n",
    "\n",
    "#2D Plot\n",
    "fig = plt.figure(figsize=(16,8))\n",
    "\n",
    "ax1 = fig.add_subplot(1, 2, 1)\n",
    "\n",
    "ax1.contour(X, Y, Z, 30, cmap='jet', linewidths=1)\n",
    "\n",
    "\n",
    "\n",
    "#3D Plot\n",
    "ax2 = fig.add_subplot(1, 2, 2, projection='3d')\n",
    "\n",
    "ax2.plot_surface(X, Y, Z, rstride=2, cstride=2, cmap='jet', edgecolor='black', alpha=1)\n",
    "\n",
    "ax2.contour(X, Y, Z, 20, zdir='z', offset=-1.5, colors='black', linewidths=1)\n",
    "\n",
    "ax2.grid(False)"
   ]
  },
  {
   "cell_type": "code",
   "execution_count": null,
   "id": "early-injury",
   "metadata": {},
   "outputs": [],
   "source": []
  }
 ],
 "metadata": {
  "kernelspec": {
   "display_name": "Python 3",
   "language": "python",
   "name": "python3"
  },
  "language_info": {
   "codemirror_mode": {
    "name": "ipython",
    "version": 3
   },
   "file_extension": ".py",
   "mimetype": "text/x-python",
   "name": "python",
   "nbconvert_exporter": "python",
   "pygments_lexer": "ipython3",
   "version": "3.7.7"
  }
 },
 "nbformat": 4,
 "nbformat_minor": 5
}
