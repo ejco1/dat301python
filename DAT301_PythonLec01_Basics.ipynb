{
 "cells": [
  {
   "cell_type": "markdown",
   "id": "assisted-rochester",
   "metadata": {},
   "source": [
    "### Welcome to Python and Jupyter Notebook\n",
    "\n",
    "Let's go through some of the basics of Python, from `hello world`, basic and more advanced data types, control structures, and user-defined functions.\n",
    "\n",
    "*Liberally add cells and experiment with the notions presented, to help internalize Python!*\n",
    "\n",
    "(Finally, I'm a **markdown cell**. You can use my ilk to document what you're doing, while most of the cells below are **code** cells, that will execute Python code. You can also simply use comments, using `#`, in code cells to document.)"
   ]
  },
  {
   "cell_type": "markdown",
   "id": "driving-nightmare",
   "metadata": {},
   "source": [
    "![Python!](https://imgs.xkcd.com/comics/python.png \"Python!\")\n",
    "\n",
    "https://xkcd.com/353/"
   ]
  },
  {
   "cell_type": "code",
   "execution_count": null,
   "id": "brazilian-paint",
   "metadata": {},
   "outputs": [],
   "source": [
    "#Note: To make a new environment and install packages in the terminal:\n",
    "#conda create -n my_env\n",
    "#conda activate my_env\n",
    "#conda config --env --add channels conda-forge\n",
    "#conda config --env --set channel_priority strict\n",
    "#conda install <my_package>"
   ]
  },
  {
   "cell_type": "markdown",
   "id": "occupied-hollow",
   "metadata": {},
   "source": [
    "#### Hello World"
   ]
  },
  {
   "cell_type": "code",
   "execution_count": null,
   "id": "selected-croatia",
   "metadata": {},
   "outputs": [],
   "source": [
    "#Start with the traditional \"hello world\"\n",
    "\n",
    "print('hello world') #Note that either single '' or double \"\" works"
   ]
  },
  {
   "cell_type": "code",
   "execution_count": null,
   "id": "liked-madagascar",
   "metadata": {},
   "outputs": [],
   "source": [
    "#We can use the IPython magic command %run to run hello_world.py:\n",
    "%run hello_world.py"
   ]
  },
  {
   "cell_type": "code",
   "execution_count": null,
   "id": "lined-programming",
   "metadata": {},
   "outputs": [],
   "source": [
    "print(\"More stuff!\" + \" other stuff\")"
   ]
  },
  {
   "cell_type": "markdown",
   "id": "still-basketball",
   "metadata": {},
   "source": [
    "#### Variables"
   ]
  },
  {
   "cell_type": "code",
   "execution_count": null,
   "id": "executed-grain",
   "metadata": {},
   "outputs": [],
   "source": [
    "#We can make variables of many different types, let's sample...\n",
    "x = 4\n",
    "y = 3.14\n",
    "z = 2 + 6j\n",
    "\n",
    "#If we place a variable on the last line, it's value will print out when executing the cell\n"
   ]
  },
  {
   "cell_type": "code",
   "execution_count": null,
   "id": "precious-trainer",
   "metadata": {},
   "outputs": [],
   "source": [
    "print(type(y))\n",
    "display(y)"
   ]
  },
  {
   "cell_type": "code",
   "execution_count": null,
   "id": "ultimate-startup",
   "metadata": {},
   "outputs": [],
   "source": [
    "#Check the types: Note the nested print(type()) functions\n",
    "print(type(x))\n",
    "print(type(y))\n",
    "print(type(z))\n",
    "\n",
    "display(type(z))"
   ]
  },
  {
   "cell_type": "code",
   "execution_count": null,
   "id": "sweet-linux",
   "metadata": {},
   "outputs": [],
   "source": [
    "print(\"x is a \" + str(x))"
   ]
  },
  {
   "cell_type": "code",
   "execution_count": null,
   "id": "collective-knitting",
   "metadata": {},
   "outputs": [],
   "source": [
    "#We can put lots of stuff in a single print\n",
    "print('x is a ', type(x), '\\ny is a ', type(y), '\\nz is the more rarely used ', type(z))"
   ]
  },
  {
   "cell_type": "code",
   "execution_count": null,
   "id": "sonic-retreat",
   "metadata": {},
   "outputs": [],
   "source": [
    "#Can also use + concatenation: But need to cast as string:\n",
    "print('x is a ' + str(type(x)))"
   ]
  },
  {
   "cell_type": "code",
   "execution_count": null,
   "id": "civilian-serbia",
   "metadata": {},
   "outputs": [],
   "source": [
    "#You can use cells as calculators, try it out\n",
    "4.6 * 7 - 12"
   ]
  },
  {
   "cell_type": "code",
   "execution_count": null,
   "id": "periodic-sword",
   "metadata": {},
   "outputs": [],
   "source": [
    "#We can do logical/boolean variables:\n",
    "#a = False\n",
    "\n",
    "a = (x == y)\n",
    "a\n",
    "#True == False"
   ]
  },
  {
   "cell_type": "code",
   "execution_count": null,
   "id": "martial-broad",
   "metadata": {},
   "outputs": [],
   "source": [
    "#Strings we have as well\n",
    "s1 = \"I'm a string\"\n",
    "s2 = \"Me too\"\n",
    "\n",
    "#How long is my string?\n",
    "print(len(s1))\n",
    "\n",
    "#We can access like a list - note indexing from 0\n",
    "s1[0:10]"
   ]
  },
  {
   "cell_type": "code",
   "execution_count": null,
   "id": "inside-manner",
   "metadata": {},
   "outputs": [],
   "source": [
    "#It's easy to concatenate strings:\n",
    "s3 = s1 + \", \" + s2"
   ]
  },
  {
   "cell_type": "code",
   "execution_count": null,
   "id": "disabled-benchmark",
   "metadata": {},
   "outputs": [],
   "source": [
    "#Mixing types leads to:\n",
    "x = 5\n",
    "y = 3.14\n",
    "\n",
    "z = x + y #try 5 vs. \"5\"\n",
    "type(z)"
   ]
  },
  {
   "cell_type": "code",
   "execution_count": null,
   "id": "complete-remove",
   "metadata": {},
   "outputs": [],
   "source": [
    "#Can's mix everything:\n",
    "#For example:\n",
    "try:\n",
    "    x = 'The finest string'\n",
    "    y = 42 #'42'\n",
    "    z = x + y\n",
    "except:\n",
    "    #Here's some string stuff too\n",
    "    print('Oof, let\\'s try concatenating?...' + (x + ' is clearly ' + str(y)))\n",
    "else:\n",
    "    print(\"It worked!\")\n",
    "finally:\n",
    "    print('What a ride!')"
   ]
  },
  {
   "cell_type": "code",
   "execution_count": null,
   "id": "experienced-sailing",
   "metadata": {},
   "outputs": [],
   "source": [
    "#Cell above also introduces try, except, finally structure\n",
    "#Useful if you think your code might throw an exception"
   ]
  },
  {
   "cell_type": "markdown",
   "id": "arranged-static",
   "metadata": {},
   "source": [
    "#### Python Scalar Types\n",
    "\n",
    "There are several basic single value *scalar* types in the standard Python library:\n",
    "\n",
    "\n",
    "| Type | Description |\n",
    "| :- | :- |\n",
    "| `None` | NULL, Only a single instance of `None` exists\n",
    "| `str` | String, UTF-8 encoded strings\n",
    "| `bytes` | Raw ASCII bytes\n",
    "| `float` | Double-precision (64-bit) float (no separate `double` type)\n",
    "| `int` | Arbitrary precision signed integer\n",
    "| `bool` | `True` or `False` boolean\n"
   ]
  },
  {
   "cell_type": "code",
   "execution_count": null,
   "id": "fewer-convertible",
   "metadata": {},
   "outputs": [],
   "source": [
    "#Note that integer division always casts to a float if decimal result\n",
    "\n",
    "5/2"
   ]
  },
  {
   "cell_type": "code",
   "execution_count": null,
   "id": "municipal-proposal",
   "metadata": {},
   "outputs": [],
   "source": [
    "#Can use // for C-style integer division\n",
    "\n",
    "5 // 2"
   ]
  },
  {
   "cell_type": "markdown",
   "id": "unlike-looking",
   "metadata": {},
   "source": [
    "#### Type-casting"
   ]
  },
  {
   "cell_type": "code",
   "execution_count": null,
   "id": "raising-advocacy",
   "metadata": {},
   "outputs": [],
   "source": [
    "#Above, 5 + 3.14 was implicitly cast to a float\n",
    "#Python will do this for \"reasonable\"  type mixing\n",
    "\n",
    "#You need to explicitly cast many types\n",
    "x = 5\n",
    "y = \"6\"\n",
    "\n",
    "#If we try to add x and y, we'll get an error, so instead:\n",
    "z = x + int(y)\n",
    "z"
   ]
  },
  {
   "cell_type": "code",
   "execution_count": null,
   "id": "second-button",
   "metadata": {},
   "outputs": [],
   "source": [
    "#But try making y a float in the string:\n",
    "x = 5\n",
    "y = \"6.4\"\n",
    "\n",
    "#This will give error:\n",
    "#z = x + int(y)\n",
    "\n",
    "#Instead...\n",
    "x + int(float(y))"
   ]
  },
  {
   "cell_type": "code",
   "execution_count": null,
   "id": "human-termination",
   "metadata": {},
   "outputs": [],
   "source": [
    "#The above isn't surprising on it's face, until you note that floating point numbers can be cast to ints:\n",
    "y = 7.2\n",
    "int(y)"
   ]
  },
  {
   "cell_type": "code",
   "execution_count": null,
   "id": "supreme-eclipse",
   "metadata": {},
   "outputs": [],
   "source": [
    "#Note that casting to int always chops off everything after the decimal:\n",
    "a = 2.99\n",
    "print(int(a))\n",
    "\n",
    "#We can use round, np.ceil, and np.floor for different rounding options\n",
    "#We need to import numpy for the latter two!\n",
    "import numpy as np\n",
    "\n",
    "x = round(a)\n",
    "y = np.ceil(a)\n",
    "z = np.floor(a)\n",
    "\n",
    "print('x = ' + str(x) + ', and has type: ' + str(type(x)))\n",
    "print('y = ' + str(y) + ', and has type: ' + str(type(y)))\n",
    "print('z = ' + str(z) + ', and has type: ' + str(type(z)))"
   ]
  },
  {
   "cell_type": "code",
   "execution_count": null,
   "id": "patent-enterprise",
   "metadata": {},
   "outputs": [],
   "source": [
    "#So, y and z are numpy.float64. Nothing wrong with that, but we can cast back to standard int, if we want:\n",
    "y = int(y)\n",
    "\n",
    "print(y)\n",
    "type(y)"
   ]
  },
  {
   "cell_type": "code",
   "execution_count": null,
   "id": "nasty-newton",
   "metadata": {},
   "outputs": [],
   "source": [
    "#Also have boolean as a type\n",
    "#Note, other types can cast to boolean, everything but 0 and None generally maps to True: play around with my_var to see\n",
    "\n",
    "my_var = bool(3.3)\n",
    "#my_var = bool(\"False\")\n",
    "#my_var = bool(None)\n",
    "#my_var = True\n",
    "\n",
    "if (my_var):\n",
    "    print('True!')"
   ]
  },
  {
   "cell_type": "code",
   "execution_count": null,
   "id": "advisory-apache",
   "metadata": {},
   "outputs": [],
   "source": [
    "type(my_var)"
   ]
  },
  {
   "cell_type": "code",
   "execution_count": null,
   "id": "original-criminal",
   "metadata": {},
   "outputs": [],
   "source": [
    "#A special type is None\n",
    "meaning_of_life = None\n",
    "\n",
    "print(meaning_of_life)"
   ]
  },
  {
   "cell_type": "code",
   "execution_count": null,
   "id": "under-career",
   "metadata": {},
   "outputs": [],
   "source": [
    "#Note None maps to neither False nor True\n",
    "if (meaning_of_life == False):\n",
    "    print('I evaluated as true!')"
   ]
  },
  {
   "cell_type": "code",
   "execution_count": null,
   "id": "heard-puzzle",
   "metadata": {},
   "outputs": [],
   "source": [
    "#Can check is something is a certain type in a few ways...\n",
    "#Checking type:\n",
    "x = 12\n",
    "print(type(x) == int)\n",
    "\n",
    "#Can also use isinstance function:\n",
    "print(isinstance(x, int))\n"
   ]
  },
  {
   "cell_type": "code",
   "execution_count": null,
   "id": "mediterranean-gothic",
   "metadata": {},
   "outputs": [],
   "source": [
    "#Note floats:\n",
    "x = 12.\n",
    "\n",
    "print(type(x) == int)\n",
    "\n",
    "print(isinstance(x, int))\n",
    "\n",
    "#Check if this floating point variable can be represented as an integer\n",
    "print(x.is_integer())\n",
    "\n",
    "if (x.is_integer() == True):\n",
    "    x = int(x)\n",
    "    \n",
    "x.is_integer()"
   ]
  },
  {
   "cell_type": "markdown",
   "id": "sweet-intelligence",
   "metadata": {},
   "source": [
    "#### Floating Point/Round-off error"
   ]
  },
  {
   "cell_type": "code",
   "execution_count": null,
   "id": "stunning-lobby",
   "metadata": {},
   "outputs": [],
   "source": [
    "#As with R, we can get floating-point round-off error when using floats:\n",
    "y = .1 + .2\n",
    "print(y == .3)"
   ]
  },
  {
   "cell_type": "code",
   "execution_count": null,
   "id": "sunset-bankruptcy",
   "metadata": {},
   "outputs": [],
   "source": [
    "#What is y, now?\n",
    "y"
   ]
  },
  {
   "cell_type": "code",
   "execution_count": null,
   "id": "stylish-underwear",
   "metadata": {},
   "outputs": [],
   "source": [
    "#Check if x and y near instead: i.e. within some tolerance, tol\n",
    "#Good practice for floating point comparisons in general\n",
    "\n",
    "tol = 1e-16\n",
    "abs(.3 - y) < tol"
   ]
  },
  {
   "cell_type": "code",
   "execution_count": null,
   "id": "worse-sweet",
   "metadata": {},
   "outputs": [],
   "source": [
    "#Alternative:\n",
    "np.isclose(y, .3)"
   ]
  },
  {
   "cell_type": "code",
   "execution_count": null,
   "id": "economic-quest",
   "metadata": {},
   "outputs": [],
   "source": [
    "?np.isclose"
   ]
  },
  {
   "cell_type": "markdown",
   "id": "lyric-smart",
   "metadata": {},
   "source": [
    "#### Round-off error and binary representation\n",
    "\n",
    "Consider $0.1$. We represent this in base-10:\n",
    "\n",
    "$$\n",
    "0.1 = \\frac{0}{10^0} + \\frac{1}{10^1} + \\frac{0}{10^2} + \\frac{0}{10^3} + \\frac{0}{10^4} + \\frac{0}{10^5} + ...\n",
    "$$\n",
    "</font>\n",
    "<font size=\"3\">\n",
    "In base-2:\n",
    "\n",
    "$$\n",
    "0.1 = \\frac{0}{2^0} + \\frac{0}{2^1} + \\frac{0}{2^2} + \\frac{0}{2^3} + \\frac{1}{2^4} + \\frac{1}{2^5} + \\frac{0}{2^6} + \\frac{0}{2^7} + \\\\ \\frac{1}{2^8} + \\frac{1}{2^9} + \\frac{0}{2^{10}} + \\frac{0}{2^{11}} + + \\frac{1}{2^{12}} + \\frac{1}{2^{13}} + ...\n",
    "$$\n",
    "</font>\n",
    "\n",
    "So, decimal expansion in base-2 is infitely repeating:\n",
    "$$\n",
    "0.1 = 0.000110011001100110011 = 0.00011\\overline{0011}\n",
    "$$\n"
   ]
  },
  {
   "cell_type": "markdown",
   "id": "aggregate-algeria",
   "metadata": {},
   "source": [
    "#### Some Odds n' Ends before proceeding\n",
    "\n",
    "- Command vs. Edit Mode\n",
    "- Comments\n",
    "- Help"
   ]
  },
  {
   "cell_type": "code",
   "execution_count": null,
   "id": "social-status",
   "metadata": {},
   "outputs": [],
   "source": [
    "#This is one way to comment, though that should be rather obvious by now\n",
    "\"\"\"\n",
    "Using the triple \" is a way to block off multiple lines as comments\n",
    "See, still commented\n",
    "Wow, *still* commented!\n",
    "\"\"\""
   ]
  },
  {
   "cell_type": "code",
   "execution_count": null,
   "id": "southeast-illustration",
   "metadata": {},
   "outputs": [],
   "source": [
    "#Note that running the above cell gives an output, despite being all \"comments\"\n",
    "#This is because you can define long strings using \"\"\"\"\"\":\n",
    "\n",
    "\"\"\"I'm a comment\n",
    "Still comment\"\"\"\n",
    "\n",
    "my_str = \"\"\"\n",
    "A string\n",
    "spread across\n",
    "multiple lines\"\"\"\n",
    "\n",
    "display(my_str)\n",
    "print(my_str)"
   ]
  },
  {
   "cell_type": "code",
   "execution_count": null,
   "id": "radical-domestic",
   "metadata": {},
   "outputs": [],
   "source": [
    "#A bit more on strings:\n",
    "#Note special characters:\n",
    "\n",
    "s = \"12\\\\24\\n\"\n",
    "\n",
    "print(s)\n",
    "s"
   ]
  },
  {
   "cell_type": "code",
   "execution_count": null,
   "id": "appointed-somalia",
   "metadata": {
    "scrolled": true
   },
   "outputs": [],
   "source": [
    "#Use r to make things literal\n",
    "s = r'this\\has\\no\\special\\characters'\n",
    "print(s)\n",
    "s"
   ]
  },
  {
   "cell_type": "code",
   "execution_count": null,
   "id": "about-denver",
   "metadata": {},
   "outputs": [],
   "source": [
    "#We can count the number of characters or substrings:\n",
    "s.count('\\\\')"
   ]
  },
  {
   "cell_type": "code",
   "execution_count": null,
   "id": "provincial-rating",
   "metadata": {},
   "outputs": [],
   "source": [
    "#Note the length of strings with special characters:\n",
    "s = \"12\\\\24\\n\"\n",
    "\n",
    "print(s)\n",
    "len(s)\n",
    "\n",
    "print(s[2], s[5])"
   ]
  },
  {
   "cell_type": "code",
   "execution_count": null,
   "id": "necessary-offer",
   "metadata": {},
   "outputs": [],
   "source": [
    "#Can do replacement in strings:\n",
    "\n",
    "a = 'this is a string, a string it is'\n",
    "b = a.replace('string', 'longer string')\n",
    "b"
   ]
  },
  {
   "cell_type": "code",
   "execution_count": null,
   "id": "recognized-person",
   "metadata": {},
   "outputs": [],
   "source": [
    "#Also note: upper, lower, isupper, islower methods:\n",
    "a.upper()\n",
    "#a.upper().islower()\n",
    "#a.upper().isupper()\n",
    "\n",
    "a[0].islower()"
   ]
  },
  {
   "cell_type": "code",
   "execution_count": null,
   "id": "drawn-probability",
   "metadata": {},
   "outputs": [],
   "source": [
    "#Note that Strings are immutable:\n",
    "###########\n",
    "\n",
    "a = 'ooh, a string'\n",
    "\n",
    "a[0] = 'D' #Doesn't work\n"
   ]
  },
  {
   "cell_type": "code",
   "execution_count": null,
   "id": "rotary-limit",
   "metadata": {},
   "outputs": [],
   "source": [
    "#Can change a string with something like:\n",
    "#b = list(a)\n",
    "#b[0] = 'D'\n",
    "#a = ''.join(b)\n",
    "#a\n",
    "\n",
    "#Or just:\n",
    "a = 'D' + a[1:]\n",
    "a\n",
    "\n",
    "#a = a[0:3] + 'XYZ' + a[3:]\n",
    "#a"
   ]
  },
  {
   "cell_type": "markdown",
   "id": "electoral-schedule",
   "metadata": {},
   "source": [
    "#### Getting Help"
   ]
  },
  {
   "cell_type": "code",
   "execution_count": null,
   "id": "institutional-following",
   "metadata": {},
   "outputs": [],
   "source": [
    "#Stack Overflow and Google (or Duck Duck Go) are always open for help\n",
    "#Sometimes the following is helpful:\n",
    "\n",
    "help(str)"
   ]
  },
  {
   "cell_type": "code",
   "execution_count": null,
   "id": "useful-young",
   "metadata": {},
   "outputs": [],
   "source": [
    "#We can also get a nice dropdown list by:\n",
    "\n",
    "a = 'foo'\n",
    "a.<Tab>"
   ]
  },
  {
   "cell_type": "code",
   "execution_count": null,
   "id": "european-sampling",
   "metadata": {},
   "outputs": [],
   "source": [
    "#Can also use:\n",
    "dir(str)"
   ]
  },
  {
   "cell_type": "code",
   "execution_count": null,
   "id": "leading-jerusalem",
   "metadata": {},
   "outputs": [],
   "source": [
    "#See also ?<>\n",
    "?str"
   ]
  },
  {
   "cell_type": "markdown",
   "id": "collaborative-browser",
   "metadata": {},
   "source": [
    "### More advanced variable types\n",
    "\n",
    "- Lists\n",
    "- Dictionaries\n",
    "- Tuples\n",
    "- Sets"
   ]
  },
  {
   "cell_type": "markdown",
   "id": "every-puppy",
   "metadata": {},
   "source": [
    "#### Lists\n",
    "\n",
    "Lists are an ordered array-like structure that is *mutable*. List elements can be of any type, including other lists, dictionary, and tuples"
   ]
  },
  {
   "cell_type": "code",
   "execution_count": null,
   "id": "shared-facility",
   "metadata": {},
   "outputs": [],
   "source": [
    "#Declare a list like so:\n",
    "li = [3, 5, 9.2, 'oye', ['a', 'b', 8.8, [1, 2,3]]] #Note the list as the last element of li\n",
    "\n",
    "print(li)\n",
    "type(li)"
   ]
  },
  {
   "cell_type": "code",
   "execution_count": null,
   "id": "severe-specification",
   "metadata": {},
   "outputs": [],
   "source": [
    "#Access by index, starting at 0\n",
    "li[1]"
   ]
  },
  {
   "cell_type": "code",
   "execution_count": null,
   "id": "friendly-shoot",
   "metadata": {},
   "outputs": [],
   "source": [
    "#And note, get into the sub-list like so:\n",
    "li[4][3][0]"
   ]
  },
  {
   "cell_type": "code",
   "execution_count": null,
   "id": "damaged-basement",
   "metadata": {
    "scrolled": true
   },
   "outputs": [],
   "source": [
    "#Note that lists have many built in methods, woo-hoo\n",
    "#We can, again, list them all with the dir() function:\n",
    "a = [1, 1, 8, 2, 5, 4]\n",
    "\n",
    "#dir(a)"
   ]
  },
  {
   "cell_type": "code",
   "execution_count": null,
   "id": "blocked-spider",
   "metadata": {
    "scrolled": true
   },
   "outputs": [],
   "source": [
    "#We can also get help on the format arguments by asking for help on lists:\n",
    "help(list)"
   ]
  },
  {
   "cell_type": "code",
   "execution_count": null,
   "id": "excellent-lingerie",
   "metadata": {
    "scrolled": true
   },
   "outputs": [],
   "source": [
    "#Play around with some of the methods..."
   ]
  },
  {
   "cell_type": "code",
   "execution_count": null,
   "id": "united-yacht",
   "metadata": {},
   "outputs": [],
   "source": [
    "#Let's try some!\n",
    "#Note that these methods act on the list when called. Some, like extend and append, take an argument\n",
    "\n",
    "a.sort()  #Could add reverse = True as optional argument\n",
    "print(a)\n",
    "\n",
    "a.reverse()\n",
    "print(a)"
   ]
  },
  {
   "cell_type": "code",
   "execution_count": null,
   "id": "controversial-nothing",
   "metadata": {},
   "outputs": [],
   "source": [
    "#Note sorted function:\n",
    "sorted(a)\n",
    "\n",
    "#sorted(\"my string\")"
   ]
  },
  {
   "cell_type": "code",
   "execution_count": null,
   "id": "remarkable-idaho",
   "metadata": {},
   "outputs": [],
   "source": [
    "#Copy is useful\n",
    "#Why? Assignment in Python usually creates a reference to an object in memory, not a copy!\n",
    "#To see:\n",
    "b = a\n",
    "b[0] = 99\n",
    "\n",
    "print(a)\n",
    "print(b)"
   ]
  },
  {
   "cell_type": "code",
   "execution_count": null,
   "id": "sunrise-royalty",
   "metadata": {},
   "outputs": [],
   "source": [
    "#So instead:\n",
    "b = a.copy()\n",
    "b[0] = 88\n",
    "\n",
    "print(a)\n",
    "print(b)"
   ]
  },
  {
   "cell_type": "code",
   "execution_count": null,
   "id": "abstract-sentence",
   "metadata": {},
   "outputs": [],
   "source": [
    "#Can also use the following to make a copy\n",
    "c = a[:]\n",
    "\n",
    "#Can see the memory id of c and a:\n",
    "print(id(a))\n",
    "print(id(c))\n",
    "\n",
    "#Can check that assignment of subset creates a copy...\n",
    "###\n",
    "c = a[0:2]\n",
    "print(id(c))\n",
    "#So generally, slicing creates copies, not references"
   ]
  },
  {
   "cell_type": "code",
   "execution_count": null,
   "id": "isolated-reviewer",
   "metadata": {},
   "outputs": [],
   "source": [
    "#Note the following though:\n",
    "########\n",
    "a = 9\n",
    "b = 9\n",
    "\n",
    "print(id(a))\n",
    "print(id(b))\n",
    "\n",
    "#a = a+10\n",
    "\n",
    "#id(a)"
   ]
  },
  {
   "cell_type": "code",
   "execution_count": null,
   "id": "individual-edgar",
   "metadata": {},
   "outputs": [],
   "source": [
    "#Similar for strings:\n",
    "a = \"I am the greatest string!\"\n",
    "b = a\n",
    "\n",
    "print(hex(id(a)))\n",
    "print(hex(id(b)))"
   ]
  },
  {
   "cell_type": "code",
   "execution_count": null,
   "id": "moved-bikini",
   "metadata": {},
   "outputs": [],
   "source": [
    "#Note for lists: These are mutable objects\n",
    "#ints, floats, strings, booleans are immutable: Once you create the object in memory, it does not change\n",
    "a = [1, 2, 3, 4]\n",
    "b = [1, 2, 3, 4]\n",
    "\n",
    "print(hex(id(a)))\n",
    "print(hex(id(b)))"
   ]
  },
  {
   "cell_type": "code",
   "execution_count": null,
   "id": "developed-candle",
   "metadata": {},
   "outputs": [],
   "source": [
    "#We used the following to make a copy above:\n",
    "c = a[:]\n",
    "\n",
    "#But note that numpy arrays are an exception!\n",
    "#We'll come back, but as a preview...\n",
    "a = np.array([[1,2,3,4], [5,6,7,8]])\n",
    "\n",
    "print(a, '\\n')\n",
    "b = a[:,:]\n",
    "\n",
    "#Uncomment and see:\n",
    "#b = a[0:2,2:4] #.copy()\n",
    "\n",
    "b[0,0] = 99\n",
    "\n",
    "print(a, '\\n')\n",
    "print(b)"
   ]
  },
  {
   "cell_type": "code",
   "execution_count": null,
   "id": "subject-logic",
   "metadata": {},
   "outputs": [],
   "source": [
    "#Let's do some more accessing and slicing of lists\n",
    "###############\n",
    "#SH"
   ]
  },
  {
   "cell_type": "code",
   "execution_count": null,
   "id": "assisted-bowling",
   "metadata": {},
   "outputs": [],
   "source": [
    "a = [1, 2, 3, 9, 2, 4, 6, 11]\n",
    "\n",
    "print(len(a))"
   ]
  },
  {
   "cell_type": "code",
   "execution_count": null,
   "id": "distant-cameroon",
   "metadata": {},
   "outputs": [],
   "source": [
    "#Various ways to access...we'll go through\n",
    "a[0]\n",
    "\n",
    "a[2:4]\n",
    "\n",
    "a[:]\n",
    "a[:-1] #Everything except last element\n",
    "\n",
    "a[-1] #Last element\n",
    "a[-3] #Third from last\n",
    "a[-2:] #Second to last to the end\n",
    "\n",
    "a[1:6:2] #1:6 by 2, note this is different order than MATLAB\n",
    "\n",
    "a[::2] #Everything by 2\n",
    "\n",
    "a[::-1] #Go backwards"
   ]
  },
  {
   "cell_type": "code",
   "execution_count": null,
   "id": "wound-phrase",
   "metadata": {},
   "outputs": [],
   "source": [
    "a[::-2]"
   ]
  },
  {
   "cell_type": "code",
   "execution_count": null,
   "id": "empty-climb",
   "metadata": {},
   "outputs": [],
   "source": [
    "#More going backwards:\n",
    "a[-1::-1]\n",
    "\n",
    "a[-1:0:-1]\n",
    "\n",
    "a[-1:4:-1]"
   ]
  },
  {
   "cell_type": "code",
   "execution_count": null,
   "id": "representative-kernel",
   "metadata": {},
   "outputs": [],
   "source": [
    "a[-1:-3:-1]"
   ]
  },
  {
   "cell_type": "code",
   "execution_count": null,
   "id": "pleased-kenya",
   "metadata": {},
   "outputs": [],
   "source": [
    "a = [1, 2, 3, 9, 2, 4, 6, 11]\n",
    "\n",
    "#Note: You can't index a list with a list!\n",
    "a[[1,3,4]]\n"
   ]
  },
  {
   "cell_type": "code",
   "execution_count": null,
   "id": "korean-joseph",
   "metadata": {},
   "outputs": [],
   "source": [
    "#Could extract like so:\n",
    "b = [a[i] for i in [1,3,4]]\n",
    "b\n"
   ]
  },
  {
   "cell_type": "code",
   "execution_count": null,
   "id": "challenging-charlotte",
   "metadata": {},
   "outputs": [],
   "source": [
    "#You can do more directly with a numpy array:\n",
    "anp = np.array(a)\n",
    "anp[[1,3,4]]\n",
    "list(anp[[1,3,4]])\n",
    "\n",
    "#Can even do this with strings, etc:\n",
    "#a = [\"this\", \"is\", \"the\", [1,2,\"ABC\"], \"list\"]\n",
    "\n",
    "#anp = np.array(a)\n",
    "#list(anp[[1,3,4]])"
   ]
  },
  {
   "cell_type": "code",
   "execution_count": null,
   "id": "antique-sport",
   "metadata": {},
   "outputs": [],
   "source": [
    "#Finally, note a[2] vs a[2:3]...check the type!\n",
    "a[2]\n",
    "#a[2:3]\n",
    "\n",
    "#type(a[2:3])"
   ]
  },
  {
   "cell_type": "code",
   "execution_count": null,
   "id": "confidential-breast",
   "metadata": {},
   "outputs": [],
   "source": [
    "#Let's append and extend our lists, I say\n",
    "#Consider the following\n",
    "\n",
    "a = [1, 2, 3]\n",
    "b = [4, 5]\n",
    "\n",
    "a + b\n",
    "\n",
    "#Go from there...\n",
    "#a.append(b)\n",
    "#a\n",
    "#a.extend(b)\n",
    "#a\n",
    "#a*3 + b*5\n"
   ]
  },
  {
   "cell_type": "code",
   "execution_count": null,
   "id": "nasty-investing",
   "metadata": {},
   "outputs": [],
   "source": [
    "#Note some more subtleties with references...\n",
    "###\n",
    "\n",
    "#Consider first:\n",
    "a = [1, 2, 3]\n",
    "print(a)\n",
    "\n",
    "b = a       #b now refers to object that also has reference 'a'\n",
    "b.extend([6,7])\n",
    "\n",
    "#b = b + [4] #reassigning reference/pointer 'b' to another object\n",
    "\n",
    "#Try also:\n",
    "#b = a\n",
    "#a = a + [4]\n",
    "\n",
    "print(a)\n",
    "print(b)"
   ]
  },
  {
   "cell_type": "code",
   "execution_count": null,
   "id": "stone-calibration",
   "metadata": {},
   "outputs": [],
   "source": [
    "#What about this?\n",
    "\n",
    "a = [1, 2, 3]\n",
    "b = a               # assigning reference b to an object that also has reference 'a'\n",
    "b = a.append(4)     # reassigning reference/pointer 'b' to another object\n",
    "#b = a.extend([5,6]) # reassigning reference/pointer 'b' to another object\n",
    "\n",
    "print(a)\n",
    "print(b)"
   ]
  },
  {
   "cell_type": "code",
   "execution_count": null,
   "id": "important-aquarium",
   "metadata": {},
   "outputs": [],
   "source": [
    "#As above, can see if variables refer to same object with \"is\":\n",
    "\n",
    "a = [1, 2, 3]\n",
    "b = a\n",
    "c = list(a)\n",
    "print(a is b)\n",
    "print(a is c)\n",
    "\n",
    "#Not the same as ==\n",
    "#Compare to:\n",
    "a == c"
   ]
  },
  {
   "cell_type": "code",
   "execution_count": null,
   "id": "amended-empire",
   "metadata": {},
   "outputs": [],
   "source": [
    "#There is a single None object:\n",
    "\n",
    "a = None\n",
    "a is None\n",
    "\n",
    "#id(None)\n",
    "#c = None\n",
    "#id(c)"
   ]
  },
  {
   "cell_type": "code",
   "execution_count": null,
   "id": "decreased-algeria",
   "metadata": {},
   "outputs": [],
   "source": [
    "#Back to more List stuff...\n",
    "###################"
   ]
  },
  {
   "cell_type": "code",
   "execution_count": null,
   "id": "tested-vault",
   "metadata": {},
   "outputs": [],
   "source": [
    "#For lists...\n",
    "#We can insert and remove:\n",
    "a = [1, 2, 4]\n",
    "\n",
    "a.insert(2, [\"A\", \"B\"])\n",
    "print(a)\n",
    "\n",
    "a.pop(1)\n",
    "a"
   ]
  },
  {
   "cell_type": "code",
   "execution_count": null,
   "id": "basic-softball",
   "metadata": {},
   "outputs": [],
   "source": [
    "a = [1,4,2]\n",
    "a.sort(reverse=True)\n",
    "a"
   ]
  },
  {
   "cell_type": "code",
   "execution_count": null,
   "id": "polished-union",
   "metadata": {},
   "outputs": [],
   "source": [
    "#And we can try to do math on lists...\n",
    "#This is a pain, we'll see that numpy is much easier and faster for this kind of stuff\n",
    "###\n",
    "a = [1,2,3]\n",
    "b = [1,1,1]\n",
    "\n",
    "#Multiply by 2?\n",
    "#a*2\n",
    "\n",
    "#[i*2 for i in a]\n",
    "\n",
    "#Add together?\n",
    "#a + b\n",
    "\n",
    "#[k + q for k,q in zip(a,b)]"
   ]
  },
  {
   "cell_type": "code",
   "execution_count": null,
   "id": "valuable-development",
   "metadata": {},
   "outputs": [],
   "source": [
    "#numpy versions:\n",
    "######\n",
    "a = [1,2,3]\n",
    "b = [1,1,1]\n",
    "\n",
    "list(np.add(a,b))\n",
    "\n",
    "#Or:\n",
    "#a = np.array(a)\n",
    "#b = np.array(b)\n",
    "#a + b"
   ]
  },
  {
   "cell_type": "markdown",
   "id": "perfect-anatomy",
   "metadata": {},
   "source": [
    "#### Dictionaries\n",
    "\n",
    "Dictionaries are mutable list-like objects, declared using curly {}, define a set of key/value pairs"
   ]
  },
  {
   "cell_type": "code",
   "execution_count": null,
   "id": "brief-wagner",
   "metadata": {},
   "outputs": [],
   "source": [
    "#Make a dictionary\n",
    "my_dict ={'thing1':12.3, 'thing2':14, 'cat':'hat', 'yurtle':'turtle', 5:42}\n",
    "my_dict"
   ]
  },
  {
   "cell_type": "code",
   "execution_count": null,
   "id": "governing-large",
   "metadata": {},
   "outputs": [],
   "source": [
    "#Get by key\n",
    "my_dict['cat']"
   ]
  },
  {
   "cell_type": "code",
   "execution_count": null,
   "id": "breathing-maker",
   "metadata": {},
   "outputs": [],
   "source": [
    "#Note that dictionaries are unordered, can't use use indexing!\n",
    "#This will give error:\n",
    "my_dict[0]\n"
   ]
  },
  {
   "cell_type": "code",
   "execution_count": null,
   "id": "mediterranean-facility",
   "metadata": {},
   "outputs": [],
   "source": [
    "#Can add to dictionary\n",
    "#my_dict.update({'lorax': 'trees'})\n",
    "#my_dict\n",
    "\n",
    "#Can also just use:\n",
    "my_dict['lorax'] = 'trees'\n",
    "my_dict"
   ]
  },
  {
   "cell_type": "code",
   "execution_count": null,
   "id": "charitable-circuit",
   "metadata": {},
   "outputs": [],
   "source": [
    "#Can pop an entry by key: Remove key and return the item\n",
    "a = my_dict.pop('cat')\n",
    "print(a)\n",
    "my_dict\n",
    "\n",
    "#Using del also an option:\n",
    "#del my_dict['cat']\n",
    "#my_dict"
   ]
  },
  {
   "cell_type": "code",
   "execution_count": null,
   "id": "anonymous-compatibility",
   "metadata": {},
   "outputs": [],
   "source": [
    "#Can also pop last key:item pair\n",
    "a = my_dict.popitem()\n",
    "print(a)\n",
    "my_dict"
   ]
  },
  {
   "cell_type": "code",
   "execution_count": null,
   "id": "sharp-chorus",
   "metadata": {},
   "outputs": [],
   "source": [
    "#Use vars or dir to look at all the methods of a function\n",
    "#Can also use help(dict)\n",
    "\n",
    "#Can check out the items, values, keys\n",
    "#my_dict.items()\n",
    "#my_dict.values()\n",
    "#my_dict.keys()\n",
    "\n",
    "#dir(my_dict)"
   ]
  },
  {
   "cell_type": "code",
   "execution_count": null,
   "id": "treated-subscriber",
   "metadata": {},
   "outputs": [],
   "source": [
    "#See if a key or value in the dictionary\n",
    "'thing1' in my_dict\n",
    "#'turtle' in my_dict.values()"
   ]
  },
  {
   "cell_type": "code",
   "execution_count": null,
   "id": "sharing-sailing",
   "metadata": {},
   "outputs": [],
   "source": [
    "dir(dict)"
   ]
  },
  {
   "cell_type": "markdown",
   "id": "hindu-sheet",
   "metadata": {},
   "source": [
    "Note that any Python object can be a value, but keys must be *hashable* objects = immutable objects like scalar types and tuples (below). To check, use `hash()` function:"
   ]
  },
  {
   "cell_type": "code",
   "execution_count": null,
   "id": "graduate-essence",
   "metadata": {},
   "outputs": [],
   "source": [
    "hash(\"sdf\")\n",
    "#hash([1,2,3])"
   ]
  },
  {
   "cell_type": "markdown",
   "id": "becoming-cache",
   "metadata": {},
   "source": [
    "#### Tuples\n",
    "\n",
    "Tuples are ordered, *immutable* array-like objects"
   ]
  },
  {
   "cell_type": "code",
   "execution_count": null,
   "id": "available-google",
   "metadata": {},
   "outputs": [],
   "source": [
    "#Let's make us a tuple\n",
    "t = (1, 3, 'test', 9, [1,2,3])\n",
    "t"
   ]
  },
  {
   "cell_type": "code",
   "execution_count": null,
   "id": "valued-glory",
   "metadata": {},
   "outputs": [],
   "source": [
    "#Index and access similar to lists\n",
    "#But tuples are immutable\n",
    "t[1:3]"
   ]
  },
  {
   "cell_type": "code",
   "execution_count": null,
   "id": "meaningful-monroe",
   "metadata": {},
   "outputs": [],
   "source": [
    "#We can have lists, dictionaries, other tuples, etc. as elements\n",
    "t2 = ([1,2], (5,6,7), {'huey':'dewey', 10.1:20})\n",
    "\n",
    "t2[0][1]"
   ]
  },
  {
   "cell_type": "code",
   "execution_count": null,
   "id": "junior-damage",
   "metadata": {},
   "outputs": [],
   "source": [
    "#Don't actually need parentheses...\n",
    "t3 = [1,2,3], 15, 'string!', True, False\n",
    "\n",
    "t3"
   ]
  },
  {
   "cell_type": "code",
   "execution_count": null,
   "id": "worse-panic",
   "metadata": {},
   "outputs": [],
   "source": [
    "#Unless necessary for more complex expressions, e.g. nested tuples (a tuple of tuples):\n",
    "nested_tuple = (4, 5, 6), (7, 8)\n",
    "nested_tuple"
   ]
  },
  {
   "cell_type": "code",
   "execution_count": null,
   "id": "emotional-religious",
   "metadata": {},
   "outputs": [],
   "source": [
    "#Can convert any sequence or iterator to a tuple with tuple():\n",
    "\n",
    "tuple([1,2,3])\n",
    "tuple(range(5,15))"
   ]
  },
  {
   "cell_type": "code",
   "execution_count": null,
   "id": "fewer-pharmacy",
   "metadata": {
    "scrolled": true
   },
   "outputs": [],
   "source": [
    "tuple(\"string\")"
   ]
  },
  {
   "cell_type": "markdown",
   "id": "impressed-endorsement",
   "metadata": {},
   "source": [
    "Tuples are *immutable*. The following gives an error"
   ]
  },
  {
   "cell_type": "code",
   "execution_count": null,
   "id": "olympic-discipline",
   "metadata": {},
   "outputs": [],
   "source": [
    "t = tuple([1,2,3,False])\n",
    "\n",
    "t[0] = 10"
   ]
  },
  {
   "cell_type": "markdown",
   "id": "promising-cholesterol",
   "metadata": {},
   "source": [
    "However, we *can* modify mutable objects within a tuple:"
   ]
  },
  {
   "cell_type": "code",
   "execution_count": null,
   "id": "three-wheat",
   "metadata": {
    "scrolled": true
   },
   "outputs": [],
   "source": [
    "t = 1, 5, [1, 2], True, \"string\"\n",
    "\n",
    "t[2].extend([1,5,6])\n",
    "t[2].remove(1)"
   ]
  },
  {
   "cell_type": "markdown",
   "id": "purple-burden",
   "metadata": {},
   "source": [
    "**Unpacking tuples**"
   ]
  },
  {
   "cell_type": "code",
   "execution_count": null,
   "id": "level-consistency",
   "metadata": {},
   "outputs": [],
   "source": [
    "#Can upack like so:\n",
    "###\n",
    "\n",
    "t = (4, 5, 6)\n",
    "\n",
    "a, b, c = t\n",
    "print(a,b,c)"
   ]
  },
  {
   "cell_type": "code",
   "execution_count": null,
   "id": "champion-ownership",
   "metadata": {},
   "outputs": [],
   "source": [
    "#For a nested tuple:\n",
    "###\n",
    "\n",
    "t = 4, 5, (6, 7)\n",
    "\n",
    "a, b, c = t\n",
    "\n",
    "#print(a,b,c)\n",
    "#OR\n",
    "\n",
    "a, b, (c, d) = t\n",
    "print(a,b,c,d)"
   ]
  },
  {
   "cell_type": "markdown",
   "id": "twelve-passion",
   "metadata": {},
   "source": [
    "#### Built-In Sequence Functions"
   ]
  },
  {
   "cell_type": "markdown",
   "id": "needed-sculpture",
   "metadata": {},
   "source": [
    "#### enumerate"
   ]
  },
  {
   "cell_type": "code",
   "execution_count": null,
   "id": "acute-activity",
   "metadata": {},
   "outputs": [],
   "source": [
    "#When we use a for loop, we loop over an iterable object\n",
    "#Often want to track index. Can do:\n",
    "\n",
    "index = 0\n",
    "l = [1,5,6,\"sdf\",11]\n",
    "\n",
    "for k in l:\n",
    "    print(\"Index \" + str(index) + \" has value: \" + str(k))\n",
    "    \n",
    "    index += 1"
   ]
  },
  {
   "cell_type": "code",
   "execution_count": null,
   "id": "administrative-mortgage",
   "metadata": {
    "scrolled": true
   },
   "outputs": [],
   "source": [
    "#Alternative is to use enumerate(): Returns sequence of (i, value) tuples:\n",
    "\n",
    "for index, value in enumerate(l):\n",
    "    print(\"Index \" + str(index) + \" has value: \" + str(value))"
   ]
  },
  {
   "cell_type": "code",
   "execution_count": null,
   "id": "needed-cleaning",
   "metadata": {
    "scrolled": true
   },
   "outputs": [],
   "source": [
    "#We can also map the values in a list to their location in the list, using a dictionary plus enumerate:\n",
    "\n",
    "my_list = ['archer', 'mage', 'fighter']\n",
    "\n",
    "mapping = {}\n",
    "\n",
    "for index, value in enumerate(my_list):\n",
    "    mapping[value] = index\n",
    "    \n",
    "print(mapping)\n",
    "\n",
    "#Now can do:\n",
    "my_list[mapping['fighter']] = 'barbarian'\n",
    "my_list"
   ]
  },
  {
   "cell_type": "markdown",
   "id": "fluid-wiring",
   "metadata": {},
   "source": [
    "#### zip\n",
    "`zip` pairs elements of other sequences to create a list of tuples:"
   ]
  },
  {
   "cell_type": "code",
   "execution_count": null,
   "id": "cubic-giant",
   "metadata": {},
   "outputs": [],
   "source": [
    "seq1 = [1, 2, 3]\n",
    "seq2 = [\"one\", \"two\", \"three\"]\n",
    "\n",
    "zipped = zip(seq1, seq2)\n",
    "print(zipped)\n",
    "print(list(zipped))\n",
    "\n",
    "zipped = zip(seq1, seq2)\n",
    "print(list(zipped))"
   ]
  },
  {
   "cell_type": "code",
   "execution_count": null,
   "id": "middle-melbourne",
   "metadata": {},
   "outputs": [],
   "source": [
    "#Note if you zip sequences of unequal length:\n",
    "seq1 = [1, 2, 3]\n",
    "seq2 = [\"one\", \"two\", \"three\"]\n",
    "seq3 = [\"A\", \"B\"]\n",
    "\n",
    "zipped = zip(seq1, seq2, seq3)\n",
    "l = list(zipped)\n",
    "l"
   ]
  },
  {
   "cell_type": "code",
   "execution_count": null,
   "id": "insured-opportunity",
   "metadata": {},
   "outputs": [],
   "source": [
    "#Can also \"unzip\":\n",
    "a, b, c = zip(*l)\n",
    "\n",
    "print(a, b, c)"
   ]
  },
  {
   "cell_type": "markdown",
   "id": "simple-divorce",
   "metadata": {},
   "source": [
    "#### sorted and reversed"
   ]
  },
  {
   "cell_type": "code",
   "execution_count": null,
   "id": "romantic-python",
   "metadata": {},
   "outputs": [],
   "source": [
    "sorted(\"string\")"
   ]
  },
  {
   "cell_type": "code",
   "execution_count": null,
   "id": "dietary-coach",
   "metadata": {},
   "outputs": [],
   "source": [
    "list(reversed(\"string\"))"
   ]
  },
  {
   "cell_type": "markdown",
   "id": "present-makeup",
   "metadata": {},
   "source": [
    "#### A note on sets\n",
    "Sets are unordered, unindexed, and do not allow duplicate values. Can add or remove items, but cannot change existing items."
   ]
  },
  {
   "cell_type": "code",
   "execution_count": null,
   "id": "wound-heritage",
   "metadata": {},
   "outputs": [],
   "source": [
    "#A quick example\n",
    "A = {1, 2, 2, 3, 4, 5, 5}\n",
    "print(A)\n",
    "\n",
    "A.add(6)\n",
    "A.discard(2)\n",
    "\n",
    "A"
   ]
  },
  {
   "cell_type": "code",
   "execution_count": null,
   "id": "agricultural-studio",
   "metadata": {},
   "outputs": [],
   "source": [
    "#Can sometimes be useful in conjunction with other objects\n",
    "#e.g. how many unique elements are in a list?\n",
    "#Let's make a list of 25 random ints...\n",
    "#Use np.random subpackage:\n",
    "import numpy as np\n",
    "\n",
    "li = [np.random.randint(1,100) for i in range(100)]\n",
    "\n",
    "len(set(li))"
   ]
  },
  {
   "cell_type": "code",
   "execution_count": null,
   "id": "owned-particle",
   "metadata": {},
   "outputs": [],
   "source": [
    "###Note that set objects must be hashable/immutable: Want a list, convert to tuple:\n",
    "\n",
    "#A = {[1,2,3], 10, 11}\n",
    "\n",
    "A = {tuple([1,2,3]), 10, 11}\n",
    "A"
   ]
  },
  {
   "cell_type": "markdown",
   "id": "short-client",
   "metadata": {},
   "source": [
    "#### Control Structures\n",
    "\n",
    "- Conditional statements, including fancy Python versions\n",
    "- `for`, `while`\n",
    "- `range`\n",
    "- Making lists the Python way\n",
    "- A bit more on types, casting, dummy variables and looping"
   ]
  },
  {
   "cell_type": "code",
   "execution_count": null,
   "id": "little-function",
   "metadata": {},
   "outputs": [],
   "source": [
    "#Basic if-elif-else\n",
    "#####\n",
    "mylist = [1,2,3,4,5]\n",
    "\n",
    "if (2 in mylist):\n",
    "    print('It is!')\n",
    "elif (4 in mylist):\n",
    "    print('Ooh, found this!')\n",
    "elif (7 in mylist):\n",
    "    print('A boring 7.')\n",
    "else:\n",
    "    print('None, oh no!')\n",
    "\n",
    "#More standard comparisons\n",
    "# ==, !=, and, or, <=, >=, <, >"
   ]
  },
  {
   "cell_type": "code",
   "execution_count": null,
   "id": "average-gambling",
   "metadata": {},
   "outputs": [],
   "source": [
    "#Special option is pass:\n",
    "if (2 == 2):\n",
    "    #I'll implement something brilliant later\n",
    "    pass\n",
    "else:\n",
    "    pass\n"
   ]
  },
  {
   "cell_type": "code",
   "execution_count": null,
   "id": "entire-ordinary",
   "metadata": {},
   "outputs": [],
   "source": [
    "#Can do fancy language-esq if else structure\n",
    "#Note the \\ to continue onto new line\n",
    "x = 10\n",
    "print(\"x > 10\") if (x > 10) else print(\"4 < x <= 10\") if (x > 4 and x <= 10) \\\n",
    "else print(\"None of those\")"
   ]
  },
  {
   "cell_type": "code",
   "execution_count": null,
   "id": "correct-pollution",
   "metadata": {},
   "outputs": [],
   "source": [
    "#For loops\n",
    "#Note, we always use \"in\" structure, often with range function\n",
    "for k in range(0,10,2):\n",
    "    print(k)"
   ]
  },
  {
   "cell_type": "code",
   "execution_count": null,
   "id": "settled-yukon",
   "metadata": {},
   "outputs": [],
   "source": [
    "#Range stuff\n",
    "a = range(0,10)\n",
    "a\n",
    "\n",
    "list(a)"
   ]
  },
  {
   "cell_type": "code",
   "execution_count": null,
   "id": "derived-montana",
   "metadata": {},
   "outputs": [],
   "source": [
    "b = range(0, 10, 3)\n",
    "for k in b:\n",
    "    print(k)"
   ]
  },
  {
   "cell_type": "code",
   "execution_count": null,
   "id": "efficient-satisfaction",
   "metadata": {},
   "outputs": [],
   "source": [
    "#Construct list using for and range\n",
    "mylist = [i for i in range(0,20,2)]\n",
    "mylist"
   ]
  },
  {
   "cell_type": "code",
   "execution_count": null,
   "id": "balanced-relationship",
   "metadata": {},
   "outputs": [],
   "source": [
    "#Can iterate over lots of things:\n",
    "name_list = ['A', 'B', 'C', 'D']\n",
    "my_dict ={'thing1':12.3, 'thing2':14, 'cat':'hat', 'yurtle':'turtle', 5:42}\n",
    "\n",
    "for n in name_list:\n",
    "    print(n)\n",
    "    \n",
    "print('')\n",
    "    \n",
    "for d in my_dict.items():\n",
    "    print(d[1])\n",
    "    \n",
    "print('')\n",
    "\n",
    "for k in my_dict:\n",
    "    print(k, my_dict[k])"
   ]
  },
  {
   "cell_type": "code",
   "execution_count": null,
   "id": "optimum-thursday",
   "metadata": {},
   "outputs": [],
   "source": [
    "#The venerable while loop\n",
    "\n",
    "count = 0\n",
    "while (count < 5):\n",
    "    count += 1\n",
    "    \n",
    "print('count is now ' + str(count))"
   ]
  },
  {
   "cell_type": "code",
   "execution_count": null,
   "id": "ready-restaurant",
   "metadata": {},
   "outputs": [],
   "source": [
    "#We have some special commands for looping\n",
    "#break, continue\n",
    "do_stuff = 1\n",
    "my_list = [i for i in range(3,10)]\n",
    "\n",
    "#Let's try to find the first index corresponding to 5 in my_list\n",
    "i = -1\n",
    "for k in range(len(my_list)):\n",
    "    \n",
    "    print(k)\n",
    "    if (not do_stuff):\n",
    "        continue\n",
    "    \n",
    "    if (my_list[k] == 5):\n",
    "        i = k\n",
    "        break\n",
    "\n",
    "print(i)"
   ]
  },
  {
   "cell_type": "code",
   "execution_count": null,
   "id": "right-mortgage",
   "metadata": {},
   "outputs": [],
   "source": [
    "#Compare to:\n",
    "my_list.index(5)\n"
   ]
  },
  {
   "cell_type": "code",
   "execution_count": null,
   "id": "meaningful-coordination",
   "metadata": {},
   "outputs": [],
   "source": [
    "#What if we want to find all indices?\n",
    "#Can do with a for loop:\n",
    "my_list = [i for i in range(3,10)] + [1,5,5,2,5]\n",
    "\n",
    "index_list = []\n",
    "\n",
    "for k in range(len(my_list)):\n",
    "    \n",
    "    if (my_list[k] == 5):\n",
    "        index_list.append(k)\n",
    "\n",
    "index_list"
   ]
  },
  {
   "cell_type": "code",
   "execution_count": null,
   "id": "mexican-telephone",
   "metadata": {},
   "outputs": [],
   "source": [
    "#Can also use the enumerate object:\n",
    "en = enumerate(my_list)\n",
    "\n",
    "list(en)"
   ]
  },
  {
   "cell_type": "code",
   "execution_count": null,
   "id": "sunset-nerve",
   "metadata": {},
   "outputs": [],
   "source": [
    "#In conjunction with a for loop:\n",
    "index_list = []\n",
    "\n",
    "for i, x in enumerate(my_list):\n",
    "    if (x == 5):\n",
    "        index_list.append(i)\n",
    "index_list"
   ]
  },
  {
   "cell_type": "code",
   "execution_count": null,
   "id": "animated-discussion",
   "metadata": {},
   "outputs": [],
   "source": [
    "#OR using \"List Comprehension\"\n",
    "\n",
    "index_list = [i for i, x in enumerate(my_list) if x == 5]\n",
    "index_list"
   ]
  },
  {
   "cell_type": "code",
   "execution_count": null,
   "id": "harmful-selection",
   "metadata": {},
   "outputs": [],
   "source": [
    "#Note \"dummy\" variables and creation\n",
    "for q in range(0,4):\n",
    "    print(q)\n",
    "    \n",
    "q"
   ]
  },
  {
   "cell_type": "code",
   "execution_count": null,
   "id": "working-front",
   "metadata": {},
   "outputs": [],
   "source": [
    "a = [tester for tester in range(10)]\n",
    "\n",
    "print(a)\n",
    "tester"
   ]
  },
  {
   "cell_type": "code",
   "execution_count": null,
   "id": "comparable-press",
   "metadata": {},
   "outputs": [],
   "source": [
    "#Recall, we did something like this above:\n",
    "#Let's add the elements of two lists:\n",
    "\n",
    "a = range(1,5)\n",
    "b = [1 for i in range(1,5)] #What if we want 2s? random numbers?\n",
    "\n",
    "#Add with a for loop:\n",
    "c = []\n",
    "for k, q in zip(a,b):\n",
    "    c.append(k + q)\n",
    "\n",
    "print(c)\n",
    "\n",
    "#Or with List Comprehension and zip()\n",
    "d = [k + q for k,q in zip(a,b)]\n",
    "d"
   ]
  },
  {
   "cell_type": "code",
   "execution_count": null,
   "id": "conservative-essay",
   "metadata": {},
   "outputs": [],
   "source": [
    "#A few more things\n",
    "#We dare ask: Is a list a subset of another list?\n",
    "\n",
    "mylist = range(0,10)\n",
    "bool_list = [i in mylist for i in [1,2,3]]\n",
    "\n",
    "bool_list\n",
    "\n",
    "#Now use any() and all()...\n",
    "#all(bool_list)"
   ]
  },
  {
   "cell_type": "code",
   "execution_count": null,
   "id": "premier-interpretation",
   "metadata": {},
   "outputs": [],
   "source": [
    "#Recall again the set type: Can be useful for getting unique elements\n",
    "#Isn't used as much = unordered, array-like, unique elements\n",
    "l = [i for i in range(1,15)] + [1,1,1,8,5,5,2]\n",
    "\n",
    "set1 = set(l)\n",
    "set1\n",
    "#list(set1)"
   ]
  },
  {
   "cell_type": "markdown",
   "id": "arctic-pierce",
   "metadata": {},
   "source": [
    "#### List, Set, and Dict Comprehension and being \"Pythonic\"\n",
    "\n",
    "Have already seen basic form of a list comprehension is:\n",
    "\n",
    "```\n",
    "[expr for val in collection if condition]\n",
    "```\n",
    "\n",
    "Which is equivalent to:\n",
    "\n",
    "```\n",
    "result = []\n",
    "for val in collection:\n",
    "    if condition:\n",
    "        result.append(expr)\n",
    "```\n",
    "\n",
    "Don't necessarily need the condition, in which case we just append vals all together."
   ]
  },
  {
   "cell_type": "code",
   "execution_count": null,
   "id": "extended-statistics",
   "metadata": {},
   "outputs": [],
   "source": [
    "###Another example:\n",
    "\n",
    "#Create a new array of the even values, squared:\n",
    "#C-style:\n",
    "x = list(range(1,10))\n",
    "\n",
    "y = []\n",
    "for k in x:\n",
    "    if (k % 2 == 0):\n",
    "        y.append(k**2)\n",
    "\n",
    "y"
   ]
  },
  {
   "cell_type": "code",
   "execution_count": null,
   "id": "productive-collaboration",
   "metadata": {},
   "outputs": [],
   "source": [
    "#Python Style:\n",
    "x = list(range(1,10))\n",
    "\n",
    "y = [el**2 for el in x if el % 2 == 0]\n",
    "\n",
    "#Note this will not work:\n",
    "y = [el**2 if el % 2 == 0 for el in x]\n",
    "\n",
    "#y"
   ]
  },
  {
   "cell_type": "code",
   "execution_count": null,
   "id": "freelance-color",
   "metadata": {},
   "outputs": [],
   "source": [
    "###One more example:\n",
    "\n",
    "#Square every even value in an array\n",
    "#C-style:\n",
    "x = list(range(1,10))\n",
    "\n",
    "for k in range(len(x)):\n",
    "    if (x[k] % 2 == 0):\n",
    "        x[k] = x[k]**2\n",
    "\n",
    "x"
   ]
  },
  {
   "cell_type": "code",
   "execution_count": null,
   "id": "general-joint",
   "metadata": {},
   "outputs": [],
   "source": [
    "#Python Style:\n",
    "x = list(range(1,10))\n",
    "\n",
    "#Now we have an if else as our expression, and no condition:\n",
    "x = [el**2 if el % 2 == 0 else el for el in x]\n",
    "x"
   ]
  },
  {
   "cell_type": "code",
   "execution_count": null,
   "id": "trying-booth",
   "metadata": {},
   "outputs": [],
   "source": [
    "#Could extend to something like:\n",
    "x = list(range(1,10))\n",
    "\n",
    "x = [el**2 if el % 2 == 0 else el**3 if el % 3 == 0 else el for el in x]\n",
    "x"
   ]
  },
  {
   "cell_type": "code",
   "execution_count": null,
   "id": "static-audio",
   "metadata": {},
   "outputs": [],
   "source": [
    "#Could add a condition to limit to first six indices:\n",
    "####\n",
    "\n",
    "x = list(range(1,10))\n",
    "\n",
    "x = [el**2 if (el % 2 == 0 and el % 3 != 0) else el**3 if el % 3 == 0 else el for i, el in enumerate(x) if i < 6]\n",
    "x"
   ]
  },
  {
   "cell_type": "markdown",
   "id": "encouraging-looking",
   "metadata": {},
   "source": [
    "#### Set Comprehensions\n",
    "\n",
    "For set comprehensions, we just use `{}` instead of `[]`:\n",
    "\n",
    "```\n",
    "{expr for val in collection if condition}\n",
    "```"
   ]
  },
  {
   "cell_type": "code",
   "execution_count": null,
   "id": "loose-drunk",
   "metadata": {},
   "outputs": [],
   "source": [
    "#Let's get all unique lengths for some set of strings:\n",
    "strings = ['asd', '1234', 'df', 'sdf', 'fss', 'as']\n",
    "\n",
    "unique_lengths = {len(x) for x in strings}\n",
    "unique_lengths"
   ]
  },
  {
   "cell_type": "markdown",
   "id": "overhead-sailing",
   "metadata": {},
   "source": [
    "#### Dict Comprehensions\n",
    "\n",
    "Use format:\n",
    "\n",
    "```\n",
    "{key-expr : value-expr for value in collection if condition}\n",
    "```\n"
   ]
  },
  {
   "cell_type": "code",
   "execution_count": null,
   "id": "functioning-indianapolis",
   "metadata": {},
   "outputs": [],
   "source": [
    "#Example:\n",
    "\n",
    "location_map ={string_name : index for index, string_name in enumerate(strings)}\n",
    "\n",
    "location_map"
   ]
  },
  {
   "cell_type": "markdown",
   "id": "orange-swiss",
   "metadata": {},
   "source": [
    "#### Functions"
   ]
  },
  {
   "cell_type": "code",
   "execution_count": null,
   "id": "human-midwest",
   "metadata": {},
   "outputs": [],
   "source": [
    "#Let's define our own functions!\n",
    "def mult(a,b):\n",
    "    x = a * b\n",
    "    \n",
    "    return x"
   ]
  },
  {
   "cell_type": "code",
   "execution_count": null,
   "id": "regional-heather",
   "metadata": {},
   "outputs": [],
   "source": [
    "#Can set default values\n",
    "def add(a = 3, b = 4):\n",
    "    x = a + b\n",
    "    return(x)"
   ]
  },
  {
   "cell_type": "code",
   "execution_count": null,
   "id": "superb-township",
   "metadata": {},
   "outputs": [],
   "source": [
    "def factorial_recursive(n = 10):\n",
    "    if (n > 1):\n",
    "        return factorial_recursive(n-1) * n\n",
    "    else:\n",
    "        return 1\n"
   ]
  },
  {
   "cell_type": "code",
   "execution_count": null,
   "id": "instrumental-latter",
   "metadata": {},
   "outputs": [],
   "source": [
    "#Try using the functions above...\n",
    "add(b=8)"
   ]
  },
  {
   "cell_type": "code",
   "execution_count": null,
   "id": "superior-manhattan",
   "metadata": {},
   "outputs": [],
   "source": [
    "#Functions let us avoid copy/paste, generalize\n",
    "#Let's make a function to see if list B is a subset of list A:\n",
    "def is_subset(A, B):\n",
    "    bool_elements = [i in A for i in B]\n",
    "    \n",
    "    all_in = all(bool_elements)\n",
    "    return(all_in)\n",
    "\n",
    "\n",
    "#And call:\n",
    "print(is_subset([i for i in range(0,10)], [1,2,3]))"
   ]
  },
  {
   "cell_type": "code",
   "execution_count": null,
   "id": "national-quality",
   "metadata": {},
   "outputs": [],
   "source": [
    "#Let's consider variable numbers of positional arguments\n",
    "#####\n",
    "def add_n(*args):\n",
    "    \n",
    "    print(args)\n",
    "    \n",
    "    total_sum = 0\n",
    "    \n",
    "    for k in args:\n",
    "        total_sum += k\n",
    "        \n",
    "    return (total_sum)"
   ]
  },
  {
   "cell_type": "code",
   "execution_count": null,
   "id": "initial-cream",
   "metadata": {},
   "outputs": [],
   "source": [
    "#Let's consider variable numbers of keyword arguments\n",
    "#####\n",
    "def test_var(**kwargs):\n",
    "    \n",
    "    print(kwargs)\n",
    "    \n",
    "    for (k,v) in kwargs.items():\n",
    "        print(k,v)\n",
    "       \n",
    "    #Could do something silly:\n",
    "    try:\n",
    "        x = kwargs[\"multiplier\"] * 10\n",
    "    except:\n",
    "        x = 10*10\n",
    "        \n",
    "    print(x)"
   ]
  },
  {
   "cell_type": "code",
   "execution_count": null,
   "id": "overall-combination",
   "metadata": {},
   "outputs": [],
   "source": [
    "#Try out add_n\n",
    "add_n(1,2,3,4,5)"
   ]
  },
  {
   "cell_type": "code",
   "execution_count": null,
   "id": "amber-medicaid",
   "metadata": {
    "scrolled": false
   },
   "outputs": [],
   "source": [
    "#Try out test_var\n",
    "test_var(multiplier=99)"
   ]
  },
  {
   "cell_type": "code",
   "execution_count": null,
   "id": "confirmed-connectivity",
   "metadata": {},
   "outputs": [],
   "source": [
    "#Note: We can return multiple values, these are returned as a tuple\n",
    "###\n",
    "def return_lots():\n",
    "    \n",
    "    return (1,2,3,4,5)"
   ]
  },
  {
   "cell_type": "code",
   "execution_count": null,
   "id": "diverse-nursing",
   "metadata": {},
   "outputs": [],
   "source": [
    "a = return_lots()\n",
    "a\n",
    "\n",
    "#Can also unpack...\n",
    "a, b, c, d, e = return_lots()\n",
    "b"
   ]
  },
  {
   "cell_type": "markdown",
   "id": "gorgeous-working",
   "metadata": {},
   "source": [
    "#### Anonymous Functions"
   ]
  },
  {
   "cell_type": "code",
   "execution_count": null,
   "id": "suburban-atlanta",
   "metadata": {},
   "outputs": [],
   "source": [
    "#Can define simple functions using lambda:\n",
    "cube = lambda x: x**3\n",
    "mult = lambda x,y: x*y\n",
    "\n",
    "#Try out..."
   ]
  },
  {
   "cell_type": "code",
   "execution_count": null,
   "id": "handled-giving",
   "metadata": {},
   "outputs": [],
   "source": [
    "#Can use a lambda expression without naming the function, hence, \"anonymous function\"\n",
    "import numpy as np\n",
    "\n",
    "(lambda x: x**3)(4)\n",
    "#(lambda x: x**3)(np.array([1,2,3]))\n"
   ]
  },
  {
   "cell_type": "code",
   "execution_count": null,
   "id": "national-shepherd",
   "metadata": {},
   "outputs": [],
   "source": [
    "#Could create a whole list of anonymous functions:\n",
    "power_func = [lambda x: x**0, lambda x: x**1, lambda x: x**2, lambda x: x**3, lambda x: x**4]\n",
    "\n",
    "power_func[3](5)"
   ]
  },
  {
   "cell_type": "markdown",
   "id": "painful-bristol",
   "metadata": {},
   "source": [
    "#### Functions are objects\n",
    "\n",
    "Consider the following example of iterating over a list of functions in order to clean a list of strings"
   ]
  },
  {
   "cell_type": "code",
   "execution_count": null,
   "id": "southeast-spain",
   "metadata": {},
   "outputs": [],
   "source": [
    "#A list of poorly entered strings:\n",
    "states = ['  Alabama ', 'arizona!!', 'west Virginia? ', 'CAlifornia.']\n",
    "\n",
    "#Let's clean with the following functions:\n",
    "#Use regular expressions to strip out punctuation:\n",
    "import re\n",
    "    \n",
    "remove_punctuation = lambda x: re.sub('[!#?.,]', '', x)\n",
    "\n",
    "states = [remove_punctuation(k) for k in states]\n",
    "states"
   ]
  },
  {
   "cell_type": "code",
   "execution_count": null,
   "id": "independent-burning",
   "metadata": {},
   "outputs": [],
   "source": [
    "#Now, we'll strip whitespace and convert to title case:\n",
    "states = [str.strip(k) for k in states]\n",
    "states = [str.title(k) for k in states]\n",
    "states"
   ]
  },
  {
   "cell_type": "code",
   "execution_count": null,
   "id": "fuzzy-profit",
   "metadata": {},
   "outputs": [],
   "source": [
    "#Put it all together:\n",
    "states = ['  Alabama ', 'arizona!!', 'west Virginia? ', 'CAlifornia.']\n",
    "\n",
    "my_functions = [remove_punctuation, str.strip, str.title]\n",
    "\n",
    "for func in my_functions:\n",
    "    states = [func(k) for k in states]\n",
    "    \n",
    "states"
   ]
  },
  {
   "cell_type": "markdown",
   "id": "controlling-consideration",
   "metadata": {},
   "source": [
    "#### Namespace/Scope\n",
    "\n",
    "Note that functions create a local namespace/scope that is destroyed once the function is finished.\n",
    "\n",
    "Can access functions outside the local scope via `global` keyword:"
   ]
  },
  {
   "cell_type": "code",
   "execution_count": null,
   "id": "nonprofit-factor",
   "metadata": {},
   "outputs": [],
   "source": [
    "a = 5\n",
    "\n",
    "def do_something():\n",
    "    #global a\n",
    "    a = 10\n",
    "    \n",
    "do_something()\n",
    "a"
   ]
  },
  {
   "cell_type": "markdown",
   "id": "going-patent",
   "metadata": {},
   "source": [
    "### Typing\n",
    "\n",
    "Note first that everything in Python, including functions, etc. is a Python object, and has an associate type and internal data.\n",
    "\n",
    "Recall once again that any time you assign a variable you are creating a *reference* to the object on the righthand side.  Assignment is also known as *binding*: Binding a name to an object.\n",
    "\n",
    "- When passing variables to a function, new local variables are created referencing the original objects, without any copying\n",
    "\n",
    "- If you bind a new object to a passed variable within the function, the change is *not* reflected in the parent scope\n",
    "\n",
    "- However, you can alter mutable objects within the function and this *is* reflected in the parent scope:"
   ]
  },
  {
   "cell_type": "code",
   "execution_count": null,
   "id": "settled-consent",
   "metadata": {},
   "outputs": [],
   "source": [
    "def my_fun(a):\n",
    "    a = 10\n",
    "    \n",
    "def my_fun2(a):\n",
    "    a = [2, 3]\n",
    "    \n",
    "def my_fun3(a):\n",
    "    a.append(4)\n",
    "    \n",
    "b = 5\n",
    "my_fun(b)\n",
    "print(b)\n",
    "\n",
    "c = [1]\n",
    "my_fun2(c)\n",
    "print(c)\n",
    "\n",
    "my_fun3(c)\n",
    "print(c)"
   ]
  },
  {
   "cell_type": "markdown",
   "id": "nominated-david",
   "metadata": {},
   "source": [
    "#### Dynamic references\n",
    "\n",
    "Note that object *references* have no associated type, so we can do this:"
   ]
  },
  {
   "cell_type": "code",
   "execution_count": null,
   "id": "northern-thread",
   "metadata": {},
   "outputs": [],
   "source": [
    "a = 5\n",
    "print(type(a))\n",
    "\n",
    "a = 'I\\'m a string now!'\n",
    "print(type(a))"
   ]
  },
  {
   "cell_type": "markdown",
   "id": "alike-judge",
   "metadata": {},
   "source": [
    "However, Python is still considered *strongly typed*, as objects still have specific types and implicit conversions only occur in obvious cases."
   ]
  },
  {
   "cell_type": "markdown",
   "id": "systematic-design",
   "metadata": {},
   "source": [
    "#### Duck typing"
   ]
  },
  {
   "cell_type": "code",
   "execution_count": null,
   "id": "occasional-trail",
   "metadata": {},
   "outputs": [],
   "source": [
    "#Example of iterable objects:\n",
    "#See also len for a simple example\n",
    "\n",
    "def isiterable(obj):\n",
    "    try:\n",
    "        iter(obj)\n",
    "        return True\n",
    "    except:    # what to do if error occurs, i.e. if obj is not iterable\n",
    "        return False\n",
    "    "
   ]
  },
  {
   "cell_type": "code",
   "execution_count": null,
   "id": "entertaining-valuable",
   "metadata": {},
   "outputs": [],
   "source": [
    "print(isiterable([-7, 3.14, 4]))\n",
    "\n",
    "x = iter([-7, 3.14, 4])\n",
    "x\n",
    "list(x)"
   ]
  },
  {
   "cell_type": "code",
   "execution_count": null,
   "id": "charming-directory",
   "metadata": {
    "scrolled": false
   },
   "outputs": [],
   "source": [
    "y = 'a string'\n",
    "#y = 5 #[5]\n",
    "\n",
    "\n",
    "print(isiterable(y))\n",
    "x = iter(y)\n",
    "list(x)"
   ]
  },
  {
   "cell_type": "markdown",
   "id": "artificial-heritage",
   "metadata": {},
   "source": [
    "#### Generators\n",
    "\n",
    "Iterators are objects that yield, in turn, objects to the Python interpreter when used in a context like a `for` loop:\n",
    "\n",
    "Consider iterating over a range:"
   ]
  },
  {
   "cell_type": "code",
   "execution_count": null,
   "id": "still-activation",
   "metadata": {},
   "outputs": [],
   "source": [
    "for k in range(5):\n",
    "    print(k)\n",
    "    "
   ]
  },
  {
   "cell_type": "code",
   "execution_count": null,
   "id": "level-pension",
   "metadata": {},
   "outputs": [],
   "source": [
    "#Python creates an iterator to do this:\n",
    "range_iterator = iter(range(5))\n",
    "\n",
    "range_iterator"
   ]
  },
  {
   "cell_type": "code",
   "execution_count": null,
   "id": "binding-hawaii",
   "metadata": {},
   "outputs": [],
   "source": [
    "list(range_iterator)\n",
    "\n",
    "#Do twice:\n",
    "#list(range_iterator)"
   ]
  },
  {
   "cell_type": "markdown",
   "id": "bigger-keyboard",
   "metadata": {},
   "source": [
    "We can make a *generator* to contruct an iterable object.\n",
    "\n",
    "- Generators return a sequence of results *lazily*\n",
    "- Use `yield` instead of `return` in a function\n",
    "\n",
    "Ex:"
   ]
  },
  {
   "cell_type": "code",
   "execution_count": null,
   "id": "subjective-lighting",
   "metadata": {},
   "outputs": [],
   "source": [
    "#Generate squares from 1 to n:\n",
    "def gen_squares(n = 10):\n",
    "    for i in range(1, n+1):\n",
    "        yield i**2"
   ]
  },
  {
   "cell_type": "code",
   "execution_count": null,
   "id": "sustainable-awareness",
   "metadata": {},
   "outputs": [],
   "source": [
    "gen = gen_squares(10)\n",
    "gen"
   ]
  },
  {
   "cell_type": "code",
   "execution_count": null,
   "id": "compound-cassette",
   "metadata": {},
   "outputs": [],
   "source": [
    "#for x in gen:\n",
    "#    print(x)\n",
    "    \n",
    "list(gen)"
   ]
  },
  {
   "cell_type": "markdown",
   "id": "sought-confirmation",
   "metadata": {},
   "source": [
    "Can also use a *generator expression*, analogous to list comprehension. Use ():\n",
    "\n",
    "Note that generators are \"forgetful:\" You can only go through the values once:"
   ]
  },
  {
   "cell_type": "code",
   "execution_count": null,
   "id": "french-morris",
   "metadata": {},
   "outputs": [],
   "source": [
    "gen = (x ** 2 for x in range(11))\n",
    "\n",
    "#max(gen)\n",
    "\n",
    "for x in gen:\n",
    "    print(x)\n",
    "    \n",
    "list(gen)"
   ]
  }
 ],
 "metadata": {
  "kernelspec": {
   "display_name": "Python 3",
   "language": "python",
   "name": "python3"
  },
  "language_info": {
   "codemirror_mode": {
    "name": "ipython",
    "version": 3
   },
   "file_extension": ".py",
   "mimetype": "text/x-python",
   "name": "python",
   "nbconvert_exporter": "python",
   "pygments_lexer": "ipython3",
   "version": "3.7.7"
  }
 },
 "nbformat": 4,
 "nbformat_minor": 5
}
